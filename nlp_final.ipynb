{
 "cells": [
  {
   "cell_type": "markdown",
   "metadata": {
    "colab_type": "text",
    "id": "NHzs72OxDRP5"
   },
   "source": [
    "# A journey through Natural Language Processing"
   ]
  },
  {
   "cell_type": "markdown",
   "metadata": {
    "colab_type": "text",
    "id": "hrpNemNiC0gj"
   },
   "source": [
    "## Import Libraries"
   ]
  },
  {
   "cell_type": "code",
   "execution_count": 1,
   "metadata": {
    "ExecuteTime": {
     "end_time": "2020-04-01T06:07:52.369610Z",
     "start_time": "2020-04-01T06:07:50.639306Z"
    },
    "colab": {
     "base_uri": "https://localhost:8080/",
     "height": 51
    },
    "colab_type": "code",
    "id": "00Zxsw_PDkJ3",
    "outputId": "7309f3df-208b-4b98-d6ee-d5c77f09e11c"
   },
   "outputs": [],
   "source": [
    "import pandas as pd\n",
    "import numpy as np\n",
    "import seaborn as sns\n",
    "import matplotlib.pyplot as plt\n",
    "import spacy\n",
    "import nltk\n",
    "import re\n",
    "from sklearn.model_selection import train_test_split\n",
    "from sklearn.linear_model import LogisticRegression\n",
    "from sklearn.metrics import accuracy_score, confusion_matrix, classification_report\n",
    "from sklearn.naive_bayes import MultinomialNB\n",
    "from sklearn.svm import SVC, LinearSVC\n",
    "from sklearn.feature_extraction.text import CountVectorizer, TfidfTransformer, TfidfVectorizer\n",
    "from sklearn.pipeline import Pipeline\n",
    "import scipy\n",
    "from sklearn.decomposition import LatentDirichletAllocation\n",
    "import random\n",
    "from string import punctuation\n",
    "from wordcloud import STOPWORDS\n",
    "from statistics import mean"
   ]
  },
  {
   "cell_type": "markdown",
   "metadata": {
    "colab_type": "text",
    "id": "NSE4nL6SDkML"
   },
   "source": [
    "## Import Data"
   ]
  },
  {
   "cell_type": "code",
   "execution_count": 2,
   "metadata": {
    "ExecuteTime": {
     "end_time": "2020-04-01T06:07:54.597731Z",
     "start_time": "2020-04-01T06:07:54.282457Z"
    },
    "colab": {},
    "colab_type": "code",
    "id": "IW226_P9DkRb"
   },
   "outputs": [],
   "source": [
    "df = pd.read_csv('fake_or_real_news.csv')"
   ]
  },
  {
   "cell_type": "code",
   "execution_count": 8,
   "metadata": {
    "ExecuteTime": {
     "end_time": "2020-03-30T01:09:55.274070Z",
     "start_time": "2020-03-30T01:09:55.265056Z"
    },
    "colab": {},
    "colab_type": "code",
    "id": "3Cew9VlnEx0c"
   },
   "outputs": [],
   "source": [
    "# We create a test data that we will just use for the final predictions\n",
    "df_train = df.sample(frac=0.9, random_state=42)\n",
    "df_test = df.drop(df_train.index)"
   ]
  },
  {
   "cell_type": "code",
   "execution_count": 9,
   "metadata": {
    "ExecuteTime": {
     "end_time": "2020-03-30T01:09:55.655658Z",
     "start_time": "2020-03-30T01:09:55.649678Z"
    },
    "colab": {
     "base_uri": "https://localhost:8080/",
     "height": 51
    },
    "colab_type": "code",
    "id": "kZZXHtHLFSHw",
    "outputId": "ed93cb76-abd3-4a4c-86fe-184155c0b5a9"
   },
   "outputs": [
    {
     "name": "stdout",
     "output_type": "stream",
     "text": [
      "Train Data Shape: (5702, 4)\n",
      "Test Data Shape: (633, 4)\n"
     ]
    }
   ],
   "source": [
    "print(f'Train Data Shape: {df_train.shape}')\n",
    "print(f'Test Data Shape: {df_test.shape}')"
   ]
  },
  {
   "cell_type": "code",
   "execution_count": 10,
   "metadata": {
    "ExecuteTime": {
     "end_time": "2020-03-30T01:09:55.892466Z",
     "start_time": "2020-03-30T01:09:55.881470Z"
    },
    "colab": {
     "base_uri": "https://localhost:8080/",
     "height": 204
    },
    "colab_type": "code",
    "id": "Yp53_e4-FS-X",
    "outputId": "e55ac469-eeff-48e7-94c2-446075078db3"
   },
   "outputs": [
    {
     "data": {
      "text/html": [
       "<div>\n",
       "<style scoped>\n",
       "    .dataframe tbody tr th:only-of-type {\n",
       "        vertical-align: middle;\n",
       "    }\n",
       "\n",
       "    .dataframe tbody tr th {\n",
       "        vertical-align: top;\n",
       "    }\n",
       "\n",
       "    .dataframe thead th {\n",
       "        text-align: right;\n",
       "    }\n",
       "</style>\n",
       "<table border=\"1\" class=\"dataframe\">\n",
       "  <thead>\n",
       "    <tr style=\"text-align: right;\">\n",
       "      <th></th>\n",
       "      <th>Unnamed: 0</th>\n",
       "      <th>title</th>\n",
       "      <th>text</th>\n",
       "      <th>label</th>\n",
       "    </tr>\n",
       "  </thead>\n",
       "  <tbody>\n",
       "    <tr>\n",
       "      <th>1357</th>\n",
       "      <td>9957</td>\n",
       "      <td>American Dream, Revisited</td>\n",
       "      <td>Will Trump pull a Brexit times ten? What would...</td>\n",
       "      <td>FAKE</td>\n",
       "    </tr>\n",
       "    <tr>\n",
       "      <th>2080</th>\n",
       "      <td>7596</td>\n",
       "      <td>Clintons Are Under Multiple FBI Investigations...</td>\n",
       "      <td>Clintons Are Under Multiple FBI Investigations...</td>\n",
       "      <td>FAKE</td>\n",
       "    </tr>\n",
       "    <tr>\n",
       "      <th>2718</th>\n",
       "      <td>8905</td>\n",
       "      <td>The FBI Can’t Actually Investigate a Candidate...</td>\n",
       "      <td>Dispatches from Eric Zuesse This piece is cros...</td>\n",
       "      <td>FAKE</td>\n",
       "    </tr>\n",
       "    <tr>\n",
       "      <th>812</th>\n",
       "      <td>8752</td>\n",
       "      <td>Confirmed: Public overwhelmingly (10-to-1) say...</td>\n",
       "      <td>Print \\n[Ed. – Every now and then the facade c...</td>\n",
       "      <td>FAKE</td>\n",
       "    </tr>\n",
       "    <tr>\n",
       "      <th>4886</th>\n",
       "      <td>7804</td>\n",
       "      <td>Nanny In Jail After Force Feeding Baby To Death</td>\n",
       "      <td>Nanny In Jail After Force Feeding Baby To Deat...</td>\n",
       "      <td>FAKE</td>\n",
       "    </tr>\n",
       "  </tbody>\n",
       "</table>\n",
       "</div>"
      ],
      "text/plain": [
       "      Unnamed: 0                                              title  \\\n",
       "1357        9957                          American Dream, Revisited   \n",
       "2080        7596  Clintons Are Under Multiple FBI Investigations...   \n",
       "2718        8905  The FBI Can’t Actually Investigate a Candidate...   \n",
       "812         8752  Confirmed: Public overwhelmingly (10-to-1) say...   \n",
       "4886        7804    Nanny In Jail After Force Feeding Baby To Death   \n",
       "\n",
       "                                                   text label  \n",
       "1357  Will Trump pull a Brexit times ten? What would...  FAKE  \n",
       "2080  Clintons Are Under Multiple FBI Investigations...  FAKE  \n",
       "2718  Dispatches from Eric Zuesse This piece is cros...  FAKE  \n",
       "812   Print \\n[Ed. – Every now and then the facade c...  FAKE  \n",
       "4886  Nanny In Jail After Force Feeding Baby To Deat...  FAKE  "
      ]
     },
     "metadata": {},
     "output_type": "display_data"
    }
   ],
   "source": [
    "display(df_train.head())"
   ]
  },
  {
   "cell_type": "code",
   "execution_count": 11,
   "metadata": {
    "ExecuteTime": {
     "end_time": "2020-03-30T01:09:56.127300Z",
     "start_time": "2020-03-30T01:09:56.122282Z"
    },
    "colab": {
     "base_uri": "https://localhost:8080/",
     "height": 34
    },
    "colab_type": "code",
    "id": "ZUfN6fgNFYvp",
    "outputId": "1fa453d3-cb26-4ac2-8e0c-44f6cb86d7a3"
   },
   "outputs": [
    {
     "data": {
      "text/plain": [
       "(5702, 4)"
      ]
     },
     "metadata": {},
     "output_type": "display_data"
    }
   ],
   "source": [
    "display(df_train.shape)"
   ]
  },
  {
   "cell_type": "code",
   "execution_count": 12,
   "metadata": {
    "ExecuteTime": {
     "end_time": "2020-03-30T01:09:56.490340Z",
     "start_time": "2020-03-30T01:09:56.347706Z"
    },
    "colab": {
     "base_uri": "https://localhost:8080/",
     "height": 34
    },
    "colab_type": "code",
    "id": "khyrho2qFbDM",
    "outputId": "332a5d02-6d0c-48ed-a23c-7c65253d0b10"
   },
   "outputs": [
    {
     "data": {
      "text/plain": [
       "0"
      ]
     },
     "execution_count": 12,
     "metadata": {},
     "output_type": "execute_result"
    }
   ],
   "source": [
    "# Check for duplicates\n",
    "len(df_train[df_train.duplicated()])"
   ]
  },
  {
   "cell_type": "code",
   "execution_count": 13,
   "metadata": {
    "ExecuteTime": {
     "end_time": "2020-03-30T01:09:56.747276Z",
     "start_time": "2020-03-30T01:09:56.595675Z"
    },
    "colab": {
     "base_uri": "https://localhost:8080/",
     "height": 279
    },
    "colab_type": "code",
    "id": "GWDUwT1xFc56",
    "outputId": "1f070079-408b-4ca1-82aa-28187980b81c"
   },
   "outputs": [
    {
     "data": {
      "image/png": "[encoded data removed]",
      "text/plain": [
       "<Figure size 432x288 with 1 Axes>"
      ]
     },
     "metadata": {
      "needs_background": "light"
     },
     "output_type": "display_data"
    }
   ],
   "source": [
    "# Plot the distribution of the target variable\n",
    "sns.countplot(x='label', data=df_train, palette='bright')\n",
    "plt.show()"
   ]
  },
  {
   "cell_type": "code",
   "execution_count": 14,
   "metadata": {
    "ExecuteTime": {
     "end_time": "2020-03-30T01:09:56.795142Z",
     "start_time": "2020-03-30T01:09:56.789132Z"
    },
    "colab": {
     "base_uri": "https://localhost:8080/",
     "height": 68
    },
    "colab_type": "code",
    "id": "3h6AC6z-FiTr",
    "outputId": "e6093cc9-3faa-4c1a-d9be-a96f4fdf5877"
   },
   "outputs": [
    {
     "data": {
      "text/plain": [
       "FAKE    2855\n",
       "REAL    2847\n",
       "Name: label, dtype: int64"
      ]
     },
     "execution_count": 14,
     "metadata": {},
     "output_type": "execute_result"
    }
   ],
   "source": [
    "# There is almost the same number of real and fake news\n",
    "df_train.label.value_counts()"
   ]
  },
  {
   "cell_type": "markdown",
   "metadata": {
    "colab_type": "text",
    "id": "pjqEAj9oFiV_"
   },
   "source": [
    "# Feature engineering with meta-features"
   ]
  },
  {
   "cell_type": "markdown",
   "metadata": {
    "colab_type": "text",
    "id": "BCUKTN4HcarO"
   },
   "source": [
    "## Adding the number of characters"
   ]
  },
  {
   "cell_type": "code",
   "execution_count": 15,
   "metadata": {
    "ExecuteTime": {
     "end_time": "2020-03-30T01:09:57.330665Z",
     "start_time": "2020-03-30T01:09:57.321691Z"
    },
    "colab": {},
    "colab_type": "code",
    "id": "EpymMtT7bxqM"
   },
   "outputs": [],
   "source": [
    "# We add a new column containing the length of each text (number of character)\n",
    "df_train['char_count'] = df_train.text.apply(lambda x: len(x))"
   ]
  },
  {
   "cell_type": "code",
   "execution_count": 16,
   "metadata": {
    "ExecuteTime": {
     "end_time": "2020-03-30T01:09:57.539290Z",
     "start_time": "2020-03-30T01:09:57.522316Z"
    },
    "colab": {
     "base_uri": "https://localhost:8080/",
     "height": 170
    },
    "colab_type": "code",
    "id": "dlkH9nsrbxsM",
    "outputId": "dda545d6-880f-4e77-8f85-ae0847cf3a97"
   },
   "outputs": [
    {
     "data": {
      "text/plain": [
       "count      5702.000000\n",
       "mean       4705.494739\n",
       "std        4990.421606\n",
       "min           1.000000\n",
       "25%        1738.250000\n",
       "50%        3624.500000\n",
       "75%        6204.000000\n",
       "max      115372.000000\n",
       "Name: char_count, dtype: float64"
      ]
     },
     "execution_count": 16,
     "metadata": {},
     "output_type": "execute_result"
    }
   ],
   "source": [
    "df_train['char_count'].describe()"
   ]
  },
  {
   "cell_type": "code",
   "execution_count": 17,
   "metadata": {
    "ExecuteTime": {
     "end_time": "2020-03-30T01:09:57.728791Z",
     "start_time": "2020-03-30T01:09:57.722767Z"
    },
    "colab": {
     "base_uri": "https://localhost:8080/",
     "height": 34
    },
    "colab_type": "code",
    "id": "co7egp97bxvg",
    "outputId": "45626a36-b7cf-40a1-91ec-8f89e9b0889a"
   },
   "outputs": [
    {
     "data": {
      "text/plain": [
       "28"
      ]
     },
     "execution_count": 17,
     "metadata": {},
     "output_type": "execute_result"
    }
   ],
   "source": [
    "# There are 28 empty texts\n",
    "len(df_train[df_train['char_count'] == 1])"
   ]
  },
  {
   "cell_type": "code",
   "execution_count": 18,
   "metadata": {
    "ExecuteTime": {
     "end_time": "2020-03-30T01:09:57.938216Z",
     "start_time": "2020-03-30T01:09:57.930213Z"
    },
    "colab": {
     "base_uri": "https://localhost:8080/",
     "height": 34
    },
    "colab_type": "code",
    "id": "tYMBz0R1bxxW",
    "outputId": "d4833c25-4536-4dba-a65c-7870b6447406"
   },
   "outputs": [
    {
     "data": {
      "text/plain": [
       "array(['FAKE'], dtype=object)"
      ]
     },
     "execution_count": 18,
     "metadata": {},
     "output_type": "execute_result"
    }
   ],
   "source": [
    "# The 28 empty texts are labeled as 'FAKE'\n",
    "df_train.label[df_train['char_count'] == 1].unique()"
   ]
  },
  {
   "cell_type": "code",
   "execution_count": 19,
   "metadata": {
    "ExecuteTime": {
     "end_time": "2020-03-30T01:09:58.159627Z",
     "start_time": "2020-03-30T01:09:58.145670Z"
    },
    "colab": {
     "base_uri": "https://localhost:8080/",
     "height": 34
    },
    "colab_type": "code",
    "id": "ZKj3WNApbxz2",
    "outputId": "5766ce1f-2a37-46c2-b5ce-e4b630dd03bf"
   },
   "outputs": [
    {
     "name": "stdout",
     "output_type": "stream",
     "text": [
      "There are 28 empty texts: [1941, 4253, 3350, 4713, 2662, 1883, 710, 3641, 106, 2576, 5213, 5017, 2244, 1736, 2788, 5639, 6064, 2426, 1851, 6328, 940, 5772, 806, 3511, 6175, 3642, 919, 2832]\n"
     ]
    }
   ],
   "source": [
    "# What are the indexes of these empty texts ?\n",
    "blanks = []\n",
    "\n",
    "for i, text, label in df_train[['text', 'label']].itertuples():\n",
    "    if type(text) == str:\n",
    "        if text.isspace():\n",
    "            blanks.append(i)\n",
    "\n",
    "print(f'There are {len(blanks)} empty texts: {blanks}')"
   ]
  },
  {
   "cell_type": "code",
   "execution_count": 20,
   "metadata": {
    "ExecuteTime": {
     "end_time": "2020-03-30T01:09:58.341155Z",
     "start_time": "2020-03-30T01:09:58.335130Z"
    },
    "colab": {},
    "colab_type": "code",
    "id": "Ys5Sw6B7bx2D"
   },
   "outputs": [],
   "source": [
    "# We drop these 28 empty texts\n",
    "df_train.drop(blanks, axis=0, inplace=True)"
   ]
  },
  {
   "cell_type": "code",
   "execution_count": 21,
   "metadata": {
    "ExecuteTime": {
     "end_time": "2020-03-30T01:09:58.550769Z",
     "start_time": "2020-03-30T01:09:58.546796Z"
    },
    "colab": {
     "base_uri": "https://localhost:8080/",
     "height": 34
    },
    "colab_type": "code",
    "id": "uHbzDYYddGqX",
    "outputId": "487dc9f5-6b8d-4bb6-fcca-5443d659a52a"
   },
   "outputs": [
    {
     "data": {
      "text/plain": [
       "(5674, 5)"
      ]
     },
     "execution_count": 21,
     "metadata": {},
     "output_type": "execute_result"
    }
   ],
   "source": [
    "df_train.shape"
   ]
  },
  {
   "cell_type": "markdown",
   "metadata": {
    "colab_type": "text",
    "id": "T0Rbu_Z9dGsb"
   },
   "source": [
    "## Adding the number of punctuation"
   ]
  },
  {
   "cell_type": "code",
   "execution_count": 22,
   "metadata": {
    "ExecuteTime": {
     "end_time": "2020-03-30T01:10:00.158588Z",
     "start_time": "2020-03-30T01:09:59.194724Z"
    },
    "colab": {},
    "colab_type": "code",
    "id": "47fOTlNtdGus"
   },
   "outputs": [],
   "source": [
    "# We add a new column with the number of punctuation within each text\n",
    "df_train['punct_count'] = df_train.text.apply(lambda x: len([i for i in x if i in punctuation]))"
   ]
  },
  {
   "cell_type": "code",
   "execution_count": 23,
   "metadata": {
    "ExecuteTime": {
     "end_time": "2020-03-30T01:10:00.216003Z",
     "start_time": "2020-03-30T01:10:00.208010Z"
    },
    "colab": {
     "base_uri": "https://localhost:8080/",
     "height": 170
    },
    "colab_type": "code",
    "id": "IgImRhhAjL6G",
    "outputId": "b91716cf-4d65-45f9-8d3a-edeb02d338e4"
   },
   "outputs": [
    {
     "data": {
      "text/plain": [
       "count    5674.000000\n",
       "mean      116.181177\n",
       "std       127.088373\n",
       "min         0.000000\n",
       "25%        40.000000\n",
       "50%        89.000000\n",
       "75%       150.000000\n",
       "max      2620.000000\n",
       "Name: punct_count, dtype: float64"
      ]
     },
     "execution_count": 23,
     "metadata": {},
     "output_type": "execute_result"
    }
   ],
   "source": [
    "df_train['punct_count'].describe()"
   ]
  },
  {
   "cell_type": "markdown",
   "metadata": {
    "colab_type": "text",
    "id": "JmsCWjlIjL8h"
   },
   "source": [
    "## Adding the number of words"
   ]
  },
  {
   "cell_type": "code",
   "execution_count": 24,
   "metadata": {
    "ExecuteTime": {
     "end_time": "2020-03-30T01:10:03.092842Z",
     "start_time": "2020-03-30T01:10:02.809273Z"
    },
    "colab": {},
    "colab_type": "code",
    "id": "z_A7RGoyjL-3"
   },
   "outputs": [],
   "source": [
    "df_train['word_count'] = df_train.text.apply(lambda x: len(x.split()))"
   ]
  },
  {
   "cell_type": "code",
   "execution_count": 25,
   "metadata": {
    "ExecuteTime": {
     "end_time": "2020-03-30T01:10:03.151658Z",
     "start_time": "2020-03-30T01:10:03.143669Z"
    },
    "colab": {
     "base_uri": "https://localhost:8080/",
     "height": 170
    },
    "colab_type": "code",
    "id": "qnb-wLCTjMBV",
    "outputId": "835589a9-02ee-4bc1-be81-f6fc7229866d"
   },
   "outputs": [
    {
     "data": {
      "text/plain": [
       "count     5674.000000\n",
       "mean       779.501234\n",
       "std        836.026773\n",
       "min          1.000000\n",
       "25%        293.000000\n",
       "50%        598.000000\n",
       "75%       1026.000000\n",
       "max      20891.000000\n",
       "Name: word_count, dtype: float64"
      ]
     },
     "execution_count": 25,
     "metadata": {},
     "output_type": "execute_result"
    }
   ],
   "source": [
    "df_train['word_count'].describe()"
   ]
  },
  {
   "cell_type": "markdown",
   "metadata": {
    "colab_type": "text",
    "id": "lh-oyE5cj4uU"
   },
   "source": [
    "## Adding the number of unique words"
   ]
  },
  {
   "cell_type": "code",
   "execution_count": 246,
   "metadata": {
    "ExecuteTime": {
     "end_time": "2020-03-19T06:11:45.564242Z",
     "start_time": "2020-03-19T06:11:44.991141Z"
    },
    "colab": {},
    "colab_type": "code",
    "id": "E1Z5UmapkduD"
   },
   "outputs": [],
   "source": [
    "df_train['unique_word_count'] = df_train.text.apply(lambda x: len(set(x.split())))"
   ]
  },
  {
   "cell_type": "code",
   "execution_count": 247,
   "metadata": {
    "ExecuteTime": {
     "end_time": "2020-03-19T06:11:45.576341Z",
     "start_time": "2020-03-19T06:11:45.566722Z"
    },
    "colab": {
     "base_uri": "https://localhost:8080/",
     "height": 170
    },
    "colab_type": "code",
    "id": "_qnsYB5Rkdwe",
    "outputId": "5598709d-b3a2-43a6-9d0b-a96808ba4446"
   },
   "outputs": [
    {
     "data": {
      "text/plain": [
       "count    5674.000000\n",
       "mean      403.120902\n",
       "std       327.801581\n",
       "min         1.000000\n",
       "25%       190.000000\n",
       "50%       346.000000\n",
       "75%       537.000000\n",
       "max      5237.000000\n",
       "Name: unique_word_count, dtype: float64"
      ]
     },
     "execution_count": 247,
     "metadata": {},
     "output_type": "execute_result"
    }
   ],
   "source": [
    "df_train['unique_word_count'].describe()"
   ]
  },
  {
   "cell_type": "markdown",
   "metadata": {
    "colab_type": "text",
    "id": "3l-oA8UsnfzG"
   },
   "source": [
    "## Adding the number of stopwords"
   ]
  },
  {
   "cell_type": "code",
   "execution_count": 248,
   "metadata": {
    "ExecuteTime": {
     "end_time": "2020-03-19T06:11:47.324912Z",
     "start_time": "2020-03-19T06:11:46.542444Z"
    },
    "colab": {},
    "colab_type": "code",
    "id": "twd9nJqxngQ8"
   },
   "outputs": [],
   "source": [
    "df_train['stop_word_count'] = df_train.text.apply(lambda x: len([w for w in x.lower().split() if w in STOPWORDS]))"
   ]
  },
  {
   "cell_type": "code",
   "execution_count": 249,
   "metadata": {
    "ExecuteTime": {
     "end_time": "2020-03-19T06:11:47.338231Z",
     "start_time": "2020-03-19T06:11:47.327235Z"
    },
    "colab": {
     "base_uri": "https://localhost:8080/",
     "height": 170
    },
    "colab_type": "code",
    "id": "MeNg_V5-ngPR",
    "outputId": "1a8e7202-8fe7-42df-b45a-45c18940380c"
   },
   "outputs": [
    {
     "data": {
      "text/plain": [
       "count    5674.000000\n",
       "mean      324.719951\n",
       "std       363.820002\n",
       "min         0.000000\n",
       "25%       116.000000\n",
       "50%       245.000000\n",
       "75%       432.000000\n",
       "max      9945.000000\n",
       "Name: stop_word_count, dtype: float64"
      ]
     },
     "execution_count": 249,
     "metadata": {},
     "output_type": "execute_result"
    }
   ],
   "source": [
    "df_train['stop_word_count'].describe()"
   ]
  },
  {
   "cell_type": "markdown",
   "metadata": {
    "colab_type": "text",
    "id": "pSIEZKDcngFa"
   },
   "source": [
    "## Adding the mean word length"
   ]
  },
  {
   "cell_type": "code",
   "execution_count": 250,
   "metadata": {
    "ExecuteTime": {
     "end_time": "2020-03-19T06:11:49.083218Z",
     "start_time": "2020-03-19T06:11:48.141611Z"
    },
    "colab": {},
    "colab_type": "code",
    "id": "H0eWPFTangDu"
   },
   "outputs": [],
   "source": [
    "df_train['mean_word_length'] = df_train['text'].apply(lambda x: np.mean([len(w) for w in str(x).split()]))"
   ]
  },
  {
   "cell_type": "code",
   "execution_count": 251,
   "metadata": {
    "ExecuteTime": {
     "end_time": "2020-03-19T06:11:49.097885Z",
     "start_time": "2020-03-19T06:11:49.086654Z"
    },
    "colab": {
     "base_uri": "https://localhost:8080/",
     "height": 170
    },
    "colab_type": "code",
    "id": "-ERKu-3Knf9H",
    "outputId": "ae49df50-1a99-47cd-df6d-8bd6975508dd"
   },
   "outputs": [
    {
     "data": {
      "text/plain": [
       "count    5674.000000\n",
       "mean        5.085153\n",
       "std         0.737586\n",
       "min         3.714286\n",
       "25%         4.881296\n",
       "50%         5.050950\n",
       "75%         5.225621\n",
       "max        48.496000\n",
       "Name: mean_word_length, dtype: float64"
      ]
     },
     "execution_count": 251,
     "metadata": {},
     "output_type": "execute_result"
    }
   ],
   "source": [
    "df_train['mean_word_length'].describe() # pourquoi 48 ? (mots collées avec /)"
   ]
  },
  {
   "cell_type": "markdown",
   "metadata": {
    "colab_type": "text",
    "id": "RcCyLDE3qp8s"
   },
   "source": [
    "## Adding the number of url"
   ]
  },
  {
   "cell_type": "code",
   "execution_count": 252,
   "metadata": {
    "ExecuteTime": {
     "end_time": "2020-03-19T06:11:50.301968Z",
     "start_time": "2020-03-19T06:11:49.633806Z"
    },
    "colab": {},
    "colab_type": "code",
    "id": "nZB882KOrad_"
   },
   "outputs": [],
   "source": [
    "df_train['url_count'] = df_train['text'].apply(lambda x: len([w for w in str(x).lower().split() if 'http' in w or 'https' in w]))"
   ]
  },
  {
   "cell_type": "code",
   "execution_count": 253,
   "metadata": {
    "ExecuteTime": {
     "end_time": "2020-03-19T06:11:50.314007Z",
     "start_time": "2020-03-19T06:11:50.304041Z"
    },
    "colab": {
     "base_uri": "https://localhost:8080/",
     "height": 170
    },
    "colab_type": "code",
    "id": "QFUMnLnqraxg",
    "outputId": "1d2d92b7-3834-4592-b5b8-f8d9c783939a"
   },
   "outputs": [
    {
     "data": {
      "text/plain": [
       "count    5674.000000\n",
       "mean        0.109623\n",
       "std         0.918100\n",
       "min         0.000000\n",
       "25%         0.000000\n",
       "50%         0.000000\n",
       "75%         0.000000\n",
       "max        31.000000\n",
       "Name: url_count, dtype: float64"
      ]
     },
     "execution_count": 253,
     "metadata": {},
     "output_type": "execute_result"
    }
   ],
   "source": [
    "df_train['url_count'].describe()"
   ]
  },
  {
   "cell_type": "markdown",
   "metadata": {
    "colab_type": "text",
    "id": "_vFC6peRravr"
   },
   "source": [
    "## Adding the number of hashtag &#35;"
   ]
  },
  {
   "cell_type": "code",
   "execution_count": 254,
   "metadata": {
    "ExecuteTime": {
     "end_time": "2020-03-19T06:11:52.894955Z",
     "start_time": "2020-03-19T06:11:52.030468Z"
    },
    "colab": {},
    "colab_type": "code",
    "id": "w3u1G9E9rat8"
   },
   "outputs": [],
   "source": [
    "df_train['hashtag_count'] = df_train['text'].apply(lambda x: len([c for c in str(x) if c == '#']))"
   ]
  },
  {
   "cell_type": "code",
   "execution_count": 255,
   "metadata": {
    "ExecuteTime": {
     "end_time": "2020-03-19T06:11:52.908624Z",
     "start_time": "2020-03-19T06:11:52.897601Z"
    },
    "colab": {
     "base_uri": "https://localhost:8080/",
     "height": 170
    },
    "colab_type": "code",
    "id": "UJZi_TRtranJ",
    "outputId": "343e2258-59c7-47c1-de5a-bebddeb3c990"
   },
   "outputs": [
    {
     "data": {
      "text/plain": [
       "count    5674.000000\n",
       "mean        0.115086\n",
       "std         0.986052\n",
       "min         0.000000\n",
       "25%         0.000000\n",
       "50%         0.000000\n",
       "75%         0.000000\n",
       "max        42.000000\n",
       "Name: hashtag_count, dtype: float64"
      ]
     },
     "execution_count": 255,
     "metadata": {},
     "output_type": "execute_result"
    }
   ],
   "source": [
    "df_train['hashtag_count'].describe()"
   ]
  },
  {
   "cell_type": "markdown",
   "metadata": {
    "colab_type": "text",
    "id": "k9WUbpgOralc"
   },
   "source": [
    "## Adding the number of mention @"
   ]
  },
  {
   "cell_type": "code",
   "execution_count": 256,
   "metadata": {
    "ExecuteTime": {
     "end_time": "2020-03-19T06:11:54.862894Z",
     "start_time": "2020-03-19T06:11:54.004651Z"
    },
    "colab": {},
    "colab_type": "code",
    "id": "riszMUA6sof3"
   },
   "outputs": [],
   "source": [
    "df_train['mention_count'] = df_train['text'].apply(lambda x: len([c for c in str(x) if c == '@']))"
   ]
  },
  {
   "cell_type": "code",
   "execution_count": 257,
   "metadata": {
    "ExecuteTime": {
     "end_time": "2020-03-19T06:11:54.874934Z",
     "start_time": "2020-03-19T06:11:54.865260Z"
    },
    "colab": {
     "base_uri": "https://localhost:8080/",
     "height": 170
    },
    "colab_type": "code",
    "id": "MFPjho6Asr7-",
    "outputId": "cae103ac-2c4d-40c6-a3f9-e8e2e9b056cb"
   },
   "outputs": [
    {
     "data": {
      "text/plain": [
       "count    5674.000000\n",
       "mean        0.225943\n",
       "std         2.112404\n",
       "min         0.000000\n",
       "25%         0.000000\n",
       "50%         0.000000\n",
       "75%         0.000000\n",
       "max       131.000000\n",
       "Name: mention_count, dtype: float64"
      ]
     },
     "execution_count": 257,
     "metadata": {},
     "output_type": "execute_result"
    }
   ],
   "source": [
    "df_train['mention_count'].describe()"
   ]
  },
  {
   "cell_type": "code",
   "execution_count": 258,
   "metadata": {
    "ExecuteTime": {
     "end_time": "2020-03-19T06:11:56.509174Z",
     "start_time": "2020-03-19T06:11:56.498996Z"
    }
   },
   "outputs": [],
   "source": [
    "def preprocess(df):\n",
    "    df['char_count'] = df.text.apply(lambda x: len(x))\n",
    "    df['punct_count'] = df.text.apply(lambda x: len([i for i in x if i in punctuation]))\n",
    "    df['word_count'] = df.text.apply(lambda x: len(x.split()))\n",
    "    df['unique_word_count'] = df.text.apply(lambda x: len(set(x.split())))\n",
    "    df['stop_word_count'] = df.text.apply(lambda x: len([w for w in x.lower().split() if w in STOPWORDS]))\n",
    "    df['mean_word_length'] = df['text'].apply(lambda x: np.mean([len(w) for w in str(x).split()]))\n",
    "    df['url_count'] = df['text'].apply(lambda x: len([w for w in str(x).lower().split() if 'http' in w or 'https' in w]))\n",
    "    df['hashtag_count'] = df['text'].apply(lambda x: len([c for c in str(x) if c == '#']))\n",
    "    df['mention_count'] = df['text'].apply(lambda x: len([c for c in str(x) if c == '@']))"
   ]
  },
  {
   "cell_type": "markdown",
   "metadata": {
    "colab_type": "text",
    "id": "9eCJgPCFkdyt"
   },
   "source": [
    "# Exploratory Data Analysis"
   ]
  },
  {
   "cell_type": "markdown",
   "metadata": {},
   "source": [
    "## Numerical Features"
   ]
  },
  {
   "cell_type": "markdown",
   "metadata": {
    "colab_type": "text",
    "id": "KXSycWsu2RgN"
   },
   "source": [
    "### char_count"
   ]
  },
  {
   "cell_type": "code",
   "execution_count": 259,
   "metadata": {
    "ExecuteTime": {
     "end_time": "2020-03-19T06:11:58.348255Z",
     "start_time": "2020-03-19T06:11:57.800558Z"
    },
    "colab": {
     "base_uri": "https://localhost:8080/",
     "height": 269
    },
    "colab_type": "code",
    "id": "_c9wxKEUxLpx",
    "outputId": "853e8b04-beda-417b-ef1e-b7c7a5f9def5"
   },
   "outputs": [
    {
     "data": {
      "image/png": "[encoded data removed]",
      "text/plain": [
       "<Figure size 432x288 with 1 Axes>"
      ]
     },
     "metadata": {
      "needs_background": "light"
     },
     "output_type": "display_data"
    }
   ],
   "source": [
    "plt.xscale('log')\n",
    "bins = 1.15**(np.arange(0,50))\n",
    "plt.hist(df_train[df_train['label']=='REAL']['char_count'],bins=bins,alpha=0.8)\n",
    "plt.hist(df_train[df_train['label']=='FAKE']['char_count'],bins=bins,alpha=0.8)\n",
    "plt.legend(('REAL','FAKE'))\n",
    "plt.show()"
   ]
  },
  {
   "cell_type": "markdown",
   "metadata": {
    "colab_type": "text",
    "id": "QHYjaD_u2YbY"
   },
   "source": [
    "### punct_count"
   ]
  },
  {
   "cell_type": "code",
   "execution_count": 260,
   "metadata": {
    "ExecuteTime": {
     "end_time": "2020-03-19T06:11:59.042998Z",
     "start_time": "2020-03-19T06:11:58.674762Z"
    },
    "colab": {
     "base_uri": "https://localhost:8080/",
     "height": 269
    },
    "colab_type": "code",
    "id": "z_zY1eWSlRZj",
    "outputId": "ba043b22-9b9e-4e37-9c8d-8b771ecdde8c"
   },
   "outputs": [
    {
     "data": {
      "image/png": "[encoded data removed]",
      "text/plain": [
       "<Figure size 432x288 with 1 Axes>"
      ]
     },
     "metadata": {
      "needs_background": "light"
     },
     "output_type": "display_data"
    }
   ],
   "source": [
    "plt.xscale('log')\n",
    "bins = 1.5**(np.arange(0,15))\n",
    "plt.hist(df_train[df_train['label']=='REAL']['punct_count'],bins=bins,alpha=0.8)\n",
    "plt.hist(df_train[df_train['label']=='FAKE']['punct_count'],bins=bins,alpha=0.8)\n",
    "plt.legend(('REAL','FAKE'))\n",
    "plt.show()"
   ]
  },
  {
   "cell_type": "markdown",
   "metadata": {
    "colab_type": "text",
    "id": "msmjSrTDlSLk"
   },
   "source": [
    "### word_count"
   ]
  },
  {
   "cell_type": "code",
   "execution_count": 261,
   "metadata": {
    "ExecuteTime": {
     "end_time": "2020-03-19T06:12:00.786647Z",
     "start_time": "2020-03-19T06:12:00.415229Z"
    },
    "colab": {
     "base_uri": "https://localhost:8080/",
     "height": 269
    },
    "colab_type": "code",
    "id": "cRLzq5b92dKf",
    "outputId": "c21b943b-516c-4dc7-8549-3132e9ace546"
   },
   "outputs": [
    {
     "data": {
      "image/png": "[encoded data removed]",
      "text/plain": [
       "<Figure size 432x288 with 1 Axes>"
      ]
     },
     "metadata": {
      "needs_background": "light"
     },
     "output_type": "display_data"
    }
   ],
   "source": [
    "plt.xscale('log')\n",
    "bins = 1.5**(np.arange(0,15))\n",
    "plt.hist(df_train[df_train['label']=='REAL']['word_count'],bins=bins,alpha=0.8)\n",
    "plt.hist(df_train[df_train['label']=='FAKE']['word_count'],bins=bins,alpha=0.8)\n",
    "plt.legend(('REAL','FAKE'))\n",
    "plt.show()"
   ]
  },
  {
   "cell_type": "markdown",
   "metadata": {
    "colab_type": "text",
    "id": "syqwNb-92dhi"
   },
   "source": [
    "### unique_word_count"
   ]
  },
  {
   "cell_type": "code",
   "execution_count": 262,
   "metadata": {
    "ExecuteTime": {
     "end_time": "2020-03-19T06:12:01.915876Z",
     "start_time": "2020-03-19T06:12:01.527509Z"
    },
    "colab": {
     "base_uri": "https://localhost:8080/",
     "height": 270
    },
    "colab_type": "code",
    "id": "ohDCQ7XU2dUx",
    "outputId": "2b5e9947-2677-4974-e1e0-45823a74e121"
   },
   "outputs": [
    {
     "data": {
      "image/png": "[encoded data removed]",
      "text/plain": [
       "<Figure size 432x288 with 1 Axes>"
      ]
     },
     "metadata": {
      "needs_background": "light"
     },
     "output_type": "display_data"
    }
   ],
   "source": [
    "plt.xscale('log')\n",
    "bins = 1.5**(np.arange(0,15))\n",
    "plt.hist(df_train[df_train['label']=='REAL']['unique_word_count'],bins=bins,alpha=0.8)\n",
    "plt.hist(df_train[df_train['label']=='FAKE']['unique_word_count'],bins=bins,alpha=0.8)\n",
    "plt.legend(('REAL','FAKE'))\n",
    "plt.show()"
   ]
  },
  {
   "cell_type": "markdown",
   "metadata": {
    "colab_type": "text",
    "id": "XjvqQak_2dTm"
   },
   "source": [
    "### stop_word_count"
   ]
  },
  {
   "cell_type": "code",
   "execution_count": 263,
   "metadata": {
    "ExecuteTime": {
     "end_time": "2020-03-19T06:12:03.008953Z",
     "start_time": "2020-03-19T06:12:02.523059Z"
    },
    "colab": {
     "base_uri": "https://localhost:8080/",
     "height": 269
    },
    "colab_type": "code",
    "id": "IqaDXGD32yuS",
    "outputId": "b691a44e-863d-40b7-b306-bbb8bb10d1d9"
   },
   "outputs": [
    {
     "data": {
      "image/png": "[encoded data removed]",
      "text/plain": [
       "<Figure size 432x288 with 1 Axes>"
      ]
     },
     "metadata": {
      "needs_background": "light"
     },
     "output_type": "display_data"
    }
   ],
   "source": [
    "plt.xscale('log')\n",
    "bins = 1.5**(np.arange(0,15))\n",
    "plt.hist(df_train[df_train['label']=='REAL']['stop_word_count'],bins=bins,alpha=0.8)\n",
    "plt.hist(df_train[df_train['label']=='FAKE']['stop_word_count'],bins=bins,alpha=0.8)\n",
    "plt.legend(('REAL','FAKE'))\n",
    "plt.show()"
   ]
  },
  {
   "cell_type": "markdown",
   "metadata": {
    "colab_type": "text",
    "id": "9_IAkXgJ2y36"
   },
   "source": [
    "### mean_word_length"
   ]
  },
  {
   "cell_type": "code",
   "execution_count": 264,
   "metadata": {
    "ExecuteTime": {
     "end_time": "2020-03-19T06:12:03.945152Z",
     "start_time": "2020-03-19T06:12:03.490326Z"
    },
    "colab": {
     "base_uri": "https://localhost:8080/",
     "height": 269
    },
    "colab_type": "code",
    "id": "2mWPYDhN2dSY",
    "outputId": "c32515d1-aa62-4915-a52c-c95d0da2f79e"
   },
   "outputs": [
    {
     "data": {
      "image/png": "[encoded data removed]",
      "text/plain": [
       "<Figure size 432x288 with 1 Axes>"
      ]
     },
     "metadata": {
      "needs_background": "light"
     },
     "output_type": "display_data"
    }
   ],
   "source": [
    "plt.xscale('log')\n",
    "bins = 1.5**(np.arange(0,15))\n",
    "plt.hist(df_train[df_train['label']=='REAL']['mean_word_length'],bins=bins,alpha=0.8)\n",
    "plt.hist(df_train[df_train['label']=='FAKE']['mean_word_length'],bins=bins,alpha=0.8)\n",
    "plt.legend(('REAL','FAKE'))\n",
    "plt.show()"
   ]
  },
  {
   "cell_type": "markdown",
   "metadata": {
    "colab_type": "text",
    "id": "__lK9D3flSSj"
   },
   "source": [
    "### url_count"
   ]
  },
  {
   "cell_type": "code",
   "execution_count": 265,
   "metadata": {
    "ExecuteTime": {
     "end_time": "2020-03-19T06:12:04.851525Z",
     "start_time": "2020-03-19T06:12:04.444033Z"
    },
    "colab": {
     "base_uri": "https://localhost:8080/",
     "height": 269
    },
    "colab_type": "code",
    "id": "mn7ZiEpr3MqF",
    "outputId": "14acdd3f-dab2-4ed6-9448-12e9faa0ee7c"
   },
   "outputs": [
    {
     "data": {
      "image/png": "[encoded data removed]",
      "text/plain": [
       "<Figure size 432x288 with 1 Axes>"
      ]
     },
     "metadata": {
      "needs_background": "light"
     },
     "output_type": "display_data"
    }
   ],
   "source": [
    "plt.xscale('log')\n",
    "bins = 1.5**(np.arange(0,15))\n",
    "plt.hist(df_train[df_train['label']=='REAL']['url_count'],bins=bins,alpha=0.8)\n",
    "plt.hist(df_train[df_train['label']=='FAKE']['url_count'],bins=bins,alpha=0.8)\n",
    "plt.legend(('REAL','FAKE'))\n",
    "plt.show()"
   ]
  },
  {
   "cell_type": "markdown",
   "metadata": {
    "colab_type": "text",
    "id": "hj9hFtOn3M0N"
   },
   "source": [
    "### hashtag_count"
   ]
  },
  {
   "cell_type": "code",
   "execution_count": 266,
   "metadata": {
    "ExecuteTime": {
     "end_time": "2020-03-19T06:12:05.878958Z",
     "start_time": "2020-03-19T06:12:05.440972Z"
    },
    "colab": {
     "base_uri": "https://localhost:8080/",
     "height": 269
    },
    "colab_type": "code",
    "id": "TIfoEvG83Mys",
    "outputId": "3c82fe50-bd57-4277-fbe9-ad4dbd2d865c"
   },
   "outputs": [
    {
     "data": {
      "image/png": "[encoded data removed]",
      "text/plain": [
       "<Figure size 432x288 with 1 Axes>"
      ]
     },
     "metadata": {
      "needs_background": "light"
     },
     "output_type": "display_data"
    }
   ],
   "source": [
    "plt.xscale('log')\n",
    "bins = 1.5**(np.arange(0,15))\n",
    "plt.hist(df_train[df_train['label']=='REAL']['hashtag_count'],bins=bins,alpha=0.8)\n",
    "plt.hist(df_train[df_train['label']=='FAKE']['hashtag_count'],bins=bins,alpha=0.8)\n",
    "plt.legend(('REAL','FAKE'))\n",
    "plt.show()"
   ]
  },
  {
   "cell_type": "markdown",
   "metadata": {
    "colab_type": "text",
    "id": "zLOKHNu53-jD"
   },
   "source": [
    "### mention_count"
   ]
  },
  {
   "cell_type": "code",
   "execution_count": 267,
   "metadata": {
    "ExecuteTime": {
     "end_time": "2020-03-19T06:12:06.795670Z",
     "start_time": "2020-03-19T06:12:06.392200Z"
    },
    "colab": {
     "base_uri": "https://localhost:8080/",
     "height": 269
    },
    "colab_type": "code",
    "id": "ogviaoSi3-vD",
    "outputId": "b50cd886-8e83-4e0a-9618-16169b1b6ce6"
   },
   "outputs": [
    {
     "data": {
      "image/png": "[encoded data removed]",
      "text/plain": [
       "<Figure size 432x288 with 1 Axes>"
      ]
     },
     "metadata": {
      "needs_background": "light"
     },
     "output_type": "display_data"
    }
   ],
   "source": [
    "plt.xscale('log')\n",
    "bins = 1.5**(np.arange(0,15))\n",
    "plt.hist(df_train[df_train['label']=='REAL']['mention_count'],bins=bins,alpha=0.8)\n",
    "plt.hist(df_train[df_train['label']=='FAKE']['mention_count'],bins=bins,alpha=0.8)\n",
    "plt.legend(('REAL','FAKE'))\n",
    "plt.show()"
   ]
  },
  {
   "cell_type": "markdown",
   "metadata": {
    "colab_type": "text",
    "id": "wC3g9TrnOpih"
   },
   "source": [
    "## Correlation Matrix"
   ]
  },
  {
   "cell_type": "code",
   "execution_count": 268,
   "metadata": {
    "ExecuteTime": {
     "end_time": "2020-03-19T06:12:08.429179Z",
     "start_time": "2020-03-19T06:12:07.817365Z"
    },
    "colab": {},
    "colab_type": "code",
    "id": "gQxBM09wOxH5"
   },
   "outputs": [
    {
     "data": {
      "image/png": "[encoded data removed]",
      "text/plain": [
       "<Figure size 864x504 with 2 Axes>"
      ]
     },
     "metadata": {
      "needs_background": "light"
     },
     "output_type": "display_data"
    }
   ],
   "source": [
    "plt.figure(figsize=(12,7))\n",
    "sns.heatmap(df_train.drop('Unnamed: 0', axis=1).corr(), annot=True, cmap='RdYlGn')\n",
    "plt.show()"
   ]
  },
  {
   "cell_type": "markdown",
   "metadata": {
    "colab_type": "text",
    "id": "fA1MUUo4lSRP"
   },
   "source": [
    "# Cosine Similarity"
   ]
  },
  {
   "cell_type": "markdown",
   "metadata": {
    "colab_type": "text",
    "id": "OkoaDmpObG35"
   },
   "source": [
    "## Similarity between 'REAL'"
   ]
  },
  {
   "cell_type": "code",
   "execution_count": 44,
   "metadata": {
    "ExecuteTime": {
     "end_time": "2020-03-19T03:26:05.353145Z",
     "start_time": "2020-03-19T03:25:55.459708Z"
    },
    "colab": {},
    "colab_type": "code",
    "id": "q_gIDG91VhWU"
   },
   "outputs": [],
   "source": [
    "nlp = spacy.load('en_core_web_lg')"
   ]
  },
  {
   "cell_type": "code",
   "execution_count": 45,
   "metadata": {
    "ExecuteTime": {
     "end_time": "2020-03-19T03:26:09.075002Z",
     "start_time": "2020-03-19T03:26:09.065809Z"
    },
    "colab": {},
    "colab_type": "code",
    "id": "nBIQWAkCla7i"
   },
   "outputs": [],
   "source": [
    "# We create a dataframe with the text labeled 'REAL'\n",
    "df_real = df_train[df_train['label'] == 'REAL']"
   ]
  },
  {
   "cell_type": "code",
   "execution_count": 46,
   "metadata": {
    "ExecuteTime": {
     "end_time": "2020-03-19T03:26:09.728788Z",
     "start_time": "2020-03-19T03:26:09.719348Z"
    },
    "colab": {},
    "colab_type": "code",
    "id": "QUuFXaRzlbBA"
   },
   "outputs": [],
   "source": [
    "#We create a dataframe with the text labeled 'FAKE'\n",
    "df_fake = df_train[df_train['label'] == 'FAKE']"
   ]
  },
  {
   "cell_type": "code",
   "execution_count": 48,
   "metadata": {
    "ExecuteTime": {
     "end_time": "2020-03-19T03:26:23.269800Z",
     "start_time": "2020-03-19T03:26:23.262964Z"
    },
    "colab": {
     "base_uri": "https://localhost:8080/",
     "height": 102
    },
    "colab_type": "code",
    "id": "sBvmAGSJlbFv",
    "outputId": "af566795-098d-45d8-efcd-e4a9ec24f163"
   },
   "outputs": [
    {
     "name": "stdout",
     "output_type": "stream",
     "text": [
      "REAL    2847\n",
      "FAKE    2827\n",
      "Name: label, dtype: int64\n",
      "2827\n",
      "2847\n"
     ]
    }
   ],
   "source": [
    "print(df_train['label'].value_counts())\n",
    "print(len(df_fake))\n",
    "print(len(df_real))"
   ]
  },
  {
   "cell_type": "code",
   "execution_count": 49,
   "metadata": {
    "ExecuteTime": {
     "end_time": "2020-03-19T03:26:27.727693Z",
     "start_time": "2020-03-19T03:26:27.390285Z"
    },
    "colab": {},
    "colab_type": "code",
    "id": "8mmSmewQT71D"
   },
   "outputs": [],
   "source": [
    "a = nlp(df_real.iloc[0].loc['text'])"
   ]
  },
  {
   "cell_type": "code",
   "execution_count": 50,
   "metadata": {
    "ExecuteTime": {
     "end_time": "2020-03-19T03:26:27.966642Z",
     "start_time": "2020-03-19T03:26:27.729932Z"
    },
    "colab": {},
    "colab_type": "code",
    "id": "11zamk38T7yT"
   },
   "outputs": [],
   "source": [
    "b = nlp(df_real.iloc[1].loc['text'])"
   ]
  },
  {
   "cell_type": "code",
   "execution_count": 51,
   "metadata": {
    "ExecuteTime": {
     "end_time": "2020-03-19T03:26:28.798140Z",
     "start_time": "2020-03-19T03:26:28.568778Z"
    },
    "colab": {},
    "colab_type": "code",
    "id": "3rBSv7kNT7vn"
   },
   "outputs": [],
   "source": [
    "c = nlp(df_fake.iloc[0].loc['text'])"
   ]
  },
  {
   "cell_type": "code",
   "execution_count": 52,
   "metadata": {
    "ExecuteTime": {
     "end_time": "2020-03-19T03:26:29.724730Z",
     "start_time": "2020-03-19T03:26:29.702703Z"
    },
    "colab": {
     "base_uri": "https://localhost:8080/",
     "height": 34
    },
    "colab_type": "code",
    "id": "eRhJtk2iT7tO",
    "outputId": "8c739c57-a2e7-4d97-bc98-ca260a7f1872"
   },
   "outputs": [
    {
     "data": {
      "text/plain": [
       "0.9771196580016692"
      ]
     },
     "execution_count": 52,
     "metadata": {},
     "output_type": "execute_result"
    }
   ],
   "source": [
    "# High similarity between 2 texts labeled 'REAL'\n",
    "a.similarity(b)"
   ]
  },
  {
   "cell_type": "code",
   "execution_count": 53,
   "metadata": {
    "ExecuteTime": {
     "end_time": "2020-03-19T03:26:31.307826Z",
     "start_time": "2020-03-19T03:26:31.297315Z"
    }
   },
   "outputs": [
    {
     "data": {
      "text/plain": [
       "0.9778839166531763"
      ]
     },
     "execution_count": 53,
     "metadata": {},
     "output_type": "execute_result"
    }
   ],
   "source": [
    "# High similarity between one 'REAL' and one 'FAKE' text\n",
    "a.similarity(c)"
   ]
  },
  {
   "cell_type": "code",
   "execution_count": 54,
   "metadata": {
    "ExecuteTime": {
     "end_time": "2020-03-19T03:26:54.682823Z",
     "start_time": "2020-03-19T03:26:54.678498Z"
    },
    "colab": {},
    "colab_type": "code",
    "id": "AwUEQZFhT7ql"
   },
   "outputs": [],
   "source": [
    "# We define a function that convert each text into a spacy document\n",
    "def simz(text):\n",
    "    text = nlp(text)\n",
    "    return text"
   ]
  },
  {
   "cell_type": "code",
   "execution_count": 1,
   "metadata": {
    "ExecuteTime": {
     "end_time": "2020-06-16T23:22:56.349272Z",
     "start_time": "2020-06-16T23:22:56.345284Z"
    },
    "colab": {
     "base_uri": "https://localhost:8080/",
     "height": 119
    },
    "colab_type": "code",
    "id": "-BCYb-DZT7oa",
    "outputId": "6369eb85-5ac7-405d-c29a-1394689ced07"
   },
   "outputs": [],
   "source": [
    "# We apply the function on the dataframe\n",
    "df_real['nlp'] = df_real['text'].apply(simz)"
   ]
  },
  {
   "cell_type": "code",
   "execution_count": 0,
   "metadata": {
    "colab": {},
    "colab_type": "code",
    "id": "lgpEYbUyT7k9"
   },
   "outputs": [],
   "source": [
    "# We create a similarity list between text labeled 'REAL'\n",
    "real_similarity = []\n",
    "\n",
    "for i in df_real['nlp']:\n",
    "    for j in df_real['nlp']:\n",
    "        if i != j:\n",
    "            real_similarity.append(i.similarity(j))"
   ]
  },
  {
   "cell_type": "code",
   "execution_count": 0,
   "metadata": {
    "colab": {
     "base_uri": "https://localhost:8080/",
     "height": 34
    },
    "colab_type": "code",
    "id": "pX3XiMFCT7jJ",
    "outputId": "39bf42de-2da2-4a83-dc64-568d20849118"
   },
   "outputs": [
    {
     "data": {
      "text/plain": [
       "8102562"
      ]
     },
     "execution_count": 21,
     "metadata": {
      "tags": []
     },
     "output_type": "execute_result"
    }
   ],
   "source": [
    "len(real_similarity)"
   ]
  },
  {
   "cell_type": "code",
   "execution_count": 0,
   "metadata": {
    "colab": {
     "base_uri": "https://localhost:8080/",
     "height": 34
    },
    "colab_type": "code",
    "id": "CXGHl60sT7gC",
    "outputId": "c0de5f7f-8c10-4176-ce83-463414f1a3a1"
   },
   "outputs": [
    {
     "name": "stdout",
     "output_type": "stream",
     "text": [
      "The average is  0.958\n"
     ]
    }
   ],
   "source": [
    "# Similarity mean between text labeled 'REAL'\n",
    "avg = mean(real_similarity)\n",
    "print(\"The average is \", round(avg,3))"
   ]
  },
  {
   "cell_type": "markdown",
   "metadata": {
    "colab_type": "text",
    "id": "O-BkhT9tbKVp"
   },
   "source": [
    "## Similarity between 'FAKE'"
   ]
  },
  {
   "cell_type": "code",
   "execution_count": 2,
   "metadata": {
    "ExecuteTime": {
     "end_time": "2020-06-16T23:23:05.892190Z",
     "start_time": "2020-06-16T23:23:05.889163Z"
    },
    "colab": {
     "base_uri": "https://localhost:8080/",
     "height": 119
    },
    "colab_type": "code",
    "id": "KNHjRYwxT7ce",
    "outputId": "d7c265f1-a33c-4392-ad70-37f985c25a6b"
   },
   "outputs": [],
   "source": [
    "#apply function\n",
    "df_fake['nlp'] = df_fake['text'].apply(simz)"
   ]
  },
  {
   "cell_type": "code",
   "execution_count": 3,
   "metadata": {
    "ExecuteTime": {
     "end_time": "2020-06-16T23:23:24.227876Z",
     "start_time": "2020-06-16T23:23:24.223879Z"
    },
    "colab": {
     "base_uri": "https://localhost:8080/",
     "height": 1000
    },
    "colab_type": "code",
    "id": "Sz_QA8NtbbTv",
    "outputId": "7d721673-5959-4749-bf23-92be7e96e928"
   },
   "outputs": [],
   "source": [
    "#list de similarity de tous les text real entre eux\n",
    "fake_similarity = []\n",
    "\n",
    "for i in df_fake['nlp']:\n",
    "    for j in df_fake['nlp']:\n",
    "        if i != j:\n",
    "            fake_similarity.append(i.similarity(j))"
   ]
  },
  {
   "cell_type": "code",
   "execution_count": 0,
   "metadata": {
    "colab": {
     "base_uri": "https://localhost:8080/",
     "height": 34
    },
    "colab_type": "code",
    "id": "mrJBPTdJbbKv",
    "outputId": "2a1594a5-8ce7-41ff-8909-e78d3907ab53"
   },
   "outputs": [
    {
     "data": {
      "text/plain": [
       "7989102"
      ]
     },
     "execution_count": 25,
     "metadata": {
      "tags": []
     },
     "output_type": "execute_result"
    }
   ],
   "source": [
    "len(fake_similarity)"
   ]
  },
  {
   "cell_type": "code",
   "execution_count": 0,
   "metadata": {
    "colab": {
     "base_uri": "https://localhost:8080/",
     "height": 34
    },
    "colab_type": "code",
    "id": "Ox3fd4zbT7Zs",
    "outputId": "fbf4f9fb-a2b9-4104-c06c-159182f11360"
   },
   "outputs": [
    {
     "name": "stdout",
     "output_type": "stream",
     "text": [
      "The average is  0.937\n"
     ]
    }
   ],
   "source": [
    "# Similarity mean between text labeled 'FAKE'\n",
    "from statistics import mean\n",
    "\n",
    "avg1 = mean(fake_similarity)\n",
    "print(\"The average is \", round(avg1,3))"
   ]
  },
  {
   "cell_type": "markdown",
   "metadata": {
    "colab_type": "text",
    "id": "FLTrkJbDkY3o"
   },
   "source": [
    "## Similarity between 'REAL' and 'FAKE' "
   ]
  },
  {
   "cell_type": "code",
   "execution_count": 4,
   "metadata": {
    "ExecuteTime": {
     "end_time": "2020-06-16T23:24:03.112501Z",
     "start_time": "2020-06-16T23:24:03.108520Z"
    },
    "colab": {
     "base_uri": "https://localhost:8080/",
     "height": 1000
    },
    "colab_type": "code",
    "id": "RH8pw-QvkYrB",
    "outputId": "440475e9-e461-4035-fe5e-f19745f461e4"
   },
   "outputs": [],
   "source": [
    "#list de similarity de tous les text real entre eux\n",
    "real_fake_similarity = []\n",
    "\n",
    "for i in df_real['nlp']:\n",
    "    for j in df_fake['nlp']:\n",
    "        real_fake_similarity.append(i.similarity(j))"
   ]
  },
  {
   "cell_type": "code",
   "execution_count": 0,
   "metadata": {
    "colab": {
     "base_uri": "https://localhost:8080/",
     "height": 34
    },
    "colab_type": "code",
    "id": "d_uTeENakYnZ",
    "outputId": "bd4ff016-4550-4d73-9d49-7d1d720f3da6"
   },
   "outputs": [
    {
     "data": {
      "text/plain": [
       "8048469"
      ]
     },
     "execution_count": 33,
     "metadata": {
      "tags": []
     },
     "output_type": "execute_result"
    }
   ],
   "source": [
    "len(real_fake_similarity)"
   ]
  },
  {
   "cell_type": "code",
   "execution_count": 0,
   "metadata": {
    "colab": {
     "base_uri": "https://localhost:8080/",
     "height": 34
    },
    "colab_type": "code",
    "id": "UPJlV2AakYk_",
    "outputId": "f9500c93-d5aa-4a6c-811d-bfd8627c5eac"
   },
   "outputs": [
    {
     "name": "stdout",
     "output_type": "stream",
     "text": [
      "The average is  0.945\n"
     ]
    }
   ],
   "source": [
    "#moyenne de similarity entre les text real entre eux\n",
    "avg2 = mean(real_fake_similarity)\n",
    "print(\"The average is \", round(avg1,3))"
   ]
  },
  {
   "cell_type": "markdown",
   "metadata": {
    "colab_type": "text",
    "id": "GJjhiTw7scSN"
   },
   "source": [
    ">**Final results:** <br>\n",
    "Real Similarity = 0.958 <br>\n",
    "Fake Similarity = 0.937 <br>\n",
    "Between Real & Fake Similarity = 0.945"
   ]
  },
  {
   "cell_type": "markdown",
   "metadata": {
    "colab_type": "text",
    "id": "HSQG3nNElbNK"
   },
   "source": [
    "# Topic Modeling with Latent Dirichlet Allocation"
   ]
  },
  {
   "cell_type": "markdown",
   "metadata": {
    "colab_type": "text",
    "id": "ttaFyxmO5Boy"
   },
   "source": [
    "## Label 'TRUE'"
   ]
  },
  {
   "cell_type": "markdown",
   "metadata": {
    "colab_type": "text",
    "id": "A8eYVuAglbMK"
   },
   "source": [
    "### Preprocessing"
   ]
  },
  {
   "cell_type": "code",
   "execution_count": 269,
   "metadata": {
    "ExecuteTime": {
     "end_time": "2020-03-19T06:13:15.274690Z",
     "start_time": "2020-03-19T06:13:15.269975Z"
    },
    "colab": {},
    "colab_type": "code",
    "id": "PhXCPkkElqMI"
   },
   "outputs": [],
   "source": [
    "cv = CountVectorizer(max_df=0.95, min_df=2, stop_words='english') # each word have to occur in min 2 doc"
   ]
  },
  {
   "cell_type": "code",
   "execution_count": 270,
   "metadata": {
    "ExecuteTime": {
     "end_time": "2020-03-19T06:13:17.490711Z",
     "start_time": "2020-03-19T06:13:15.690737Z"
    },
    "colab": {},
    "colab_type": "code",
    "id": "nsjdawGwlqSA"
   },
   "outputs": [],
   "source": [
    "dtm = cv.fit_transform(df_train[df_train.label == 'REAL']['text'])"
   ]
  },
  {
   "cell_type": "code",
   "execution_count": 271,
   "metadata": {
    "ExecuteTime": {
     "end_time": "2020-03-19T06:13:17.498409Z",
     "start_time": "2020-03-19T06:13:17.493148Z"
    },
    "colab": {
     "base_uri": "https://localhost:8080/",
     "height": 51
    },
    "colab_type": "code",
    "id": "0d-k5_9plqYD",
    "outputId": "175b308a-79bb-4c7a-a3a4-7d380b90a6e3"
   },
   "outputs": [
    {
     "data": {
      "text/plain": [
       "<2847x26597 sparse matrix of type '<class 'numpy.int64'>'\n",
       "\twith 829618 stored elements in Compressed Sparse Row format>"
      ]
     },
     "execution_count": 271,
     "metadata": {},
     "output_type": "execute_result"
    }
   ],
   "source": [
    "dtm"
   ]
  },
  {
   "cell_type": "markdown",
   "metadata": {
    "colab_type": "text",
    "id": "kHwrsbI5lbLA"
   },
   "source": [
    "### LDA"
   ]
  },
  {
   "cell_type": "code",
   "execution_count": 272,
   "metadata": {
    "ExecuteTime": {
     "end_time": "2020-03-19T06:13:18.278314Z",
     "start_time": "2020-03-19T06:13:18.274678Z"
    },
    "colab": {},
    "colab_type": "code",
    "id": "XYbi52ob5qtK"
   },
   "outputs": [],
   "source": [
    "LDA = LatentDirichletAllocation(n_components=2, random_state=42) # number of topics"
   ]
  },
  {
   "cell_type": "code",
   "execution_count": 273,
   "metadata": {
    "ExecuteTime": {
     "end_time": "2020-03-19T06:13:43.310269Z",
     "start_time": "2020-03-19T06:13:21.287469Z"
    },
    "colab": {
     "base_uri": "https://localhost:8080/",
     "height": 136
    },
    "colab_type": "code",
    "id": "tI0IUG-q5q8B",
    "outputId": "02833e25-67ab-4499-8a93-45648a90700b"
   },
   "outputs": [
    {
     "data": {
      "text/plain": [
       "LatentDirichletAllocation(batch_size=128, doc_topic_prior=None,\n",
       "                          evaluate_every=-1, learning_decay=0.7,\n",
       "                          learning_method='batch', learning_offset=10.0,\n",
       "                          max_doc_update_iter=100, max_iter=10,\n",
       "                          mean_change_tol=0.001, n_components=2, n_jobs=None,\n",
       "                          perp_tol=0.1, random_state=42, topic_word_prior=None,\n",
       "                          total_samples=1000000.0, verbose=0)"
      ]
     },
     "execution_count": 273,
     "metadata": {},
     "output_type": "execute_result"
    }
   ],
   "source": [
    "LDA.fit(dtm)"
   ]
  },
  {
   "cell_type": "markdown",
   "metadata": {
    "colab_type": "text",
    "id": "eipf03A25q5r"
   },
   "source": [
    "### Showing Top Words per topic"
   ]
  },
  {
   "cell_type": "code",
   "execution_count": 274,
   "metadata": {
    "ExecuteTime": {
     "end_time": "2020-03-19T06:13:46.251624Z",
     "start_time": "2020-03-19T06:13:45.601902Z"
    },
    "colab": {
     "base_uri": "https://localhost:8080/",
     "height": 173
    },
    "colab_type": "code",
    "id": "XMvXObMX5q3Y",
    "outputId": "bd21d0b1-2117-4b0d-973b-490fe3e3e9bb"
   },
   "outputs": [
    {
     "name": "stdout",
     "output_type": "stream",
     "text": [
      "The Top 15 words for topic #0\n",
      "['cruz', 'presidential', 'democratic', 'state', 'voters', 'people', 'president', 'sanders', 'new', 'party', 'republican', 'campaign', 'said', 'clinton', 'trump']\n",
      "\n",
      "\n",
      "The Top 15 words for topic #1\n",
      "['time', 'house', 'court', 'new', 'law', 'iran', 'states', 'year', 'police', 'government', 'president', 'people', 'state', 'obama', 'said']\n",
      "\n",
      "\n"
     ]
    }
   ],
   "source": [
    "for index, topic in enumerate(LDA.components_):\n",
    "    print(f'The Top 15 words for topic #{index}')\n",
    "    print([cv.get_feature_names()[i] for i in topic.argsort()[-15:]])\n",
    "    print('\\n')"
   ]
  },
  {
   "cell_type": "markdown",
   "metadata": {
    "colab_type": "text",
    "id": "kN01An6YGjJe"
   },
   "source": [
    "## Label 'FAKE'"
   ]
  },
  {
   "cell_type": "markdown",
   "metadata": {},
   "source": [
    "### Preprocessing"
   ]
  },
  {
   "cell_type": "code",
   "execution_count": 275,
   "metadata": {
    "ExecuteTime": {
     "end_time": "2020-03-19T06:13:49.457008Z",
     "start_time": "2020-03-19T06:13:49.450423Z"
    },
    "colab": {},
    "colab_type": "code",
    "id": "ko4RFB-8GjRo"
   },
   "outputs": [],
   "source": [
    "cv = CountVectorizer(max_df=0.95, min_df=2, stop_words='english') # each word have to occur in min 2 doc"
   ]
  },
  {
   "cell_type": "code",
   "execution_count": 276,
   "metadata": {
    "ExecuteTime": {
     "end_time": "2020-03-19T06:13:51.435043Z",
     "start_time": "2020-03-19T06:13:49.665286Z"
    },
    "colab": {},
    "colab_type": "code",
    "id": "KArUib4xMsNk"
   },
   "outputs": [],
   "source": [
    "dtm = cv.fit_transform(df_train[df_train.label == 'REAL']['text'])"
   ]
  },
  {
   "cell_type": "code",
   "execution_count": 277,
   "metadata": {
    "ExecuteTime": {
     "end_time": "2020-03-19T06:13:51.446419Z",
     "start_time": "2020-03-19T06:13:51.438096Z"
    },
    "colab": {},
    "colab_type": "code",
    "id": "mhCCDAM6MsXp"
   },
   "outputs": [
    {
     "data": {
      "text/plain": [
       "<2847x26597 sparse matrix of type '<class 'numpy.int64'>'\n",
       "\twith 829618 stored elements in Compressed Sparse Row format>"
      ]
     },
     "execution_count": 277,
     "metadata": {},
     "output_type": "execute_result"
    }
   ],
   "source": [
    "dtm"
   ]
  },
  {
   "cell_type": "markdown",
   "metadata": {
    "colab": {},
    "colab_type": "code",
    "id": "bVqdsuoqMsWZ"
   },
   "source": [
    "### LDA"
   ]
  },
  {
   "cell_type": "code",
   "execution_count": 278,
   "metadata": {
    "ExecuteTime": {
     "end_time": "2020-03-19T06:13:53.928417Z",
     "start_time": "2020-03-19T06:13:53.923992Z"
    }
   },
   "outputs": [],
   "source": [
    "LDA = LatentDirichletAllocation(n_components=2, random_state=42) # number of topics"
   ]
  },
  {
   "cell_type": "code",
   "execution_count": 279,
   "metadata": {
    "ExecuteTime": {
     "end_time": "2020-03-19T06:14:17.091360Z",
     "start_time": "2020-03-19T06:13:54.542131Z"
    }
   },
   "outputs": [
    {
     "data": {
      "text/plain": [
       "LatentDirichletAllocation(batch_size=128, doc_topic_prior=None,\n",
       "                          evaluate_every=-1, learning_decay=0.7,\n",
       "                          learning_method='batch', learning_offset=10.0,\n",
       "                          max_doc_update_iter=100, max_iter=10,\n",
       "                          mean_change_tol=0.001, n_components=2, n_jobs=None,\n",
       "                          perp_tol=0.1, random_state=42, topic_word_prior=None,\n",
       "                          total_samples=1000000.0, verbose=0)"
      ]
     },
     "execution_count": 279,
     "metadata": {},
     "output_type": "execute_result"
    }
   ],
   "source": [
    "LDA.fit(dtm)"
   ]
  },
  {
   "cell_type": "markdown",
   "metadata": {},
   "source": [
    "### Showing Top Words per topic"
   ]
  },
  {
   "cell_type": "code",
   "execution_count": 280,
   "metadata": {
    "ExecuteTime": {
     "end_time": "2020-03-19T06:14:34.311288Z",
     "start_time": "2020-03-19T06:14:33.653669Z"
    }
   },
   "outputs": [
    {
     "name": "stdout",
     "output_type": "stream",
     "text": [
      "The Top 15 words for topic #0\n",
      "['cruz', 'presidential', 'democratic', 'state', 'voters', 'people', 'president', 'sanders', 'new', 'party', 'republican', 'campaign', 'said', 'clinton', 'trump']\n",
      "\n",
      "\n",
      "The Top 15 words for topic #1\n",
      "['time', 'house', 'court', 'new', 'law', 'iran', 'states', 'year', 'police', 'government', 'president', 'people', 'state', 'obama', 'said']\n",
      "\n",
      "\n"
     ]
    }
   ],
   "source": [
    "for index, topic in enumerate(LDA.components_):\n",
    "    print(f'The Top 15 words for topic #{index}')\n",
    "    print([cv.get_feature_names()[i] for i in topic.argsort()[-15:]])\n",
    "    print('\\n')"
   ]
  },
  {
   "cell_type": "markdown",
   "metadata": {
    "colab_type": "text",
    "id": "Rt-dMmc3kd1g"
   },
   "source": [
    "# Checking for missing values"
   ]
  },
  {
   "cell_type": "code",
   "execution_count": 283,
   "metadata": {
    "ExecuteTime": {
     "end_time": "2020-03-19T06:16:27.340687Z",
     "start_time": "2020-03-19T06:16:27.331017Z"
    },
    "colab": {
     "base_uri": "https://localhost:8080/",
     "height": 153
    },
    "colab_type": "code",
    "id": "pTzuOw2RkhpH",
    "outputId": "9f5a354a-12e8-40ab-e321-69ff953c5b88"
   },
   "outputs": [
    {
     "data": {
      "text/plain": [
       "Unnamed: 0           0\n",
       "title                0\n",
       "text                 0\n",
       "label                0\n",
       "char_count           0\n",
       "punct_count          0\n",
       "word_count           0\n",
       "unique_word_count    0\n",
       "stop_word_count      0\n",
       "mean_word_length     0\n",
       "url_count            0\n",
       "hashtag_count        0\n",
       "mention_count        0\n",
       "dtype: int64"
      ]
     },
     "execution_count": 283,
     "metadata": {},
     "output_type": "execute_result"
    }
   ],
   "source": [
    "# There are no missing values\n",
    "df_train.isnull().sum()"
   ]
  },
  {
   "cell_type": "code",
   "execution_count": 284,
   "metadata": {
    "ExecuteTime": {
     "end_time": "2020-03-19T06:16:28.280837Z",
     "start_time": "2020-03-19T06:16:28.269047Z"
    },
    "colab": {
     "base_uri": "https://localhost:8080/",
     "height": 306
    },
    "colab_type": "code",
    "id": "DGUPjf8MkimP",
    "outputId": "454c0747-475c-4053-ccd1-b9eb7082ffdd"
   },
   "outputs": [
    {
     "data": {
      "text/html": [
       "<div>\n",
       "<style scoped>\n",
       "    .dataframe tbody tr th:only-of-type {\n",
       "        vertical-align: middle;\n",
       "    }\n",
       "\n",
       "    .dataframe tbody tr th {\n",
       "        vertical-align: top;\n",
       "    }\n",
       "\n",
       "    .dataframe thead th {\n",
       "        text-align: right;\n",
       "    }\n",
       "</style>\n",
       "<table border=\"1\" class=\"dataframe\">\n",
       "  <thead>\n",
       "    <tr style=\"text-align: right;\">\n",
       "      <th></th>\n",
       "      <th>Unnamed: 0</th>\n",
       "      <th>title</th>\n",
       "      <th>text</th>\n",
       "      <th>label</th>\n",
       "      <th>char_count</th>\n",
       "      <th>punct_count</th>\n",
       "      <th>word_count</th>\n",
       "      <th>unique_word_count</th>\n",
       "      <th>stop_word_count</th>\n",
       "      <th>mean_word_length</th>\n",
       "      <th>url_count</th>\n",
       "      <th>hashtag_count</th>\n",
       "      <th>mention_count</th>\n",
       "    </tr>\n",
       "  </thead>\n",
       "  <tbody>\n",
       "    <tr>\n",
       "      <td>1357</td>\n",
       "      <td>9957</td>\n",
       "      <td>American Dream, Revisited</td>\n",
       "      <td>Will Trump pull a Brexit times ten? What would...</td>\n",
       "      <td>FAKE</td>\n",
       "      <td>7447</td>\n",
       "      <td>193</td>\n",
       "      <td>1195</td>\n",
       "      <td>635</td>\n",
       "      <td>492</td>\n",
       "      <td>5.231799</td>\n",
       "      <td>0</td>\n",
       "      <td>0</td>\n",
       "      <td>1</td>\n",
       "    </tr>\n",
       "    <tr>\n",
       "      <td>2080</td>\n",
       "      <td>7596</td>\n",
       "      <td>Clintons Are Under Multiple FBI Investigations...</td>\n",
       "      <td>Clintons Are Under Multiple FBI Investigations...</td>\n",
       "      <td>FAKE</td>\n",
       "      <td>3085</td>\n",
       "      <td>46</td>\n",
       "      <td>507</td>\n",
       "      <td>289</td>\n",
       "      <td>214</td>\n",
       "      <td>5.071006</td>\n",
       "      <td>0</td>\n",
       "      <td>0</td>\n",
       "      <td>0</td>\n",
       "    </tr>\n",
       "    <tr>\n",
       "      <td>2718</td>\n",
       "      <td>8905</td>\n",
       "      <td>The FBI Can’t Actually Investigate a Candidate...</td>\n",
       "      <td>Dispatches from Eric Zuesse This piece is cros...</td>\n",
       "      <td>FAKE</td>\n",
       "      <td>19297</td>\n",
       "      <td>565</td>\n",
       "      <td>3210</td>\n",
       "      <td>1288</td>\n",
       "      <td>1419</td>\n",
       "      <td>5.011838</td>\n",
       "      <td>0</td>\n",
       "      <td>1</td>\n",
       "      <td>0</td>\n",
       "    </tr>\n",
       "    <tr>\n",
       "      <td>812</td>\n",
       "      <td>8752</td>\n",
       "      <td>Confirmed: Public overwhelmingly (10-to-1) say...</td>\n",
       "      <td>Print \\n[Ed. – Every now and then the facade c...</td>\n",
       "      <td>FAKE</td>\n",
       "      <td>1191</td>\n",
       "      <td>25</td>\n",
       "      <td>200</td>\n",
       "      <td>144</td>\n",
       "      <td>70</td>\n",
       "      <td>4.940000</td>\n",
       "      <td>0</td>\n",
       "      <td>0</td>\n",
       "      <td>0</td>\n",
       "    </tr>\n",
       "    <tr>\n",
       "      <td>4886</td>\n",
       "      <td>7804</td>\n",
       "      <td>Nanny In Jail After Force Feeding Baby To Death</td>\n",
       "      <td>Nanny In Jail After Force Feeding Baby To Deat...</td>\n",
       "      <td>FAKE</td>\n",
       "      <td>1573</td>\n",
       "      <td>38</td>\n",
       "      <td>257</td>\n",
       "      <td>180</td>\n",
       "      <td>95</td>\n",
       "      <td>5.081712</td>\n",
       "      <td>0</td>\n",
       "      <td>0</td>\n",
       "      <td>0</td>\n",
       "    </tr>\n",
       "  </tbody>\n",
       "</table>\n",
       "</div>"
      ],
      "text/plain": [
       "      Unnamed: 0                                              title  \\\n",
       "1357        9957                          American Dream, Revisited   \n",
       "2080        7596  Clintons Are Under Multiple FBI Investigations...   \n",
       "2718        8905  The FBI Can’t Actually Investigate a Candidate...   \n",
       "812         8752  Confirmed: Public overwhelmingly (10-to-1) say...   \n",
       "4886        7804    Nanny In Jail After Force Feeding Baby To Death   \n",
       "\n",
       "                                                   text label  char_count  \\\n",
       "1357  Will Trump pull a Brexit times ten? What would...  FAKE        7447   \n",
       "2080  Clintons Are Under Multiple FBI Investigations...  FAKE        3085   \n",
       "2718  Dispatches from Eric Zuesse This piece is cros...  FAKE       19297   \n",
       "812   Print \\n[Ed. – Every now and then the facade c...  FAKE        1191   \n",
       "4886  Nanny In Jail After Force Feeding Baby To Deat...  FAKE        1573   \n",
       "\n",
       "      punct_count  word_count  unique_word_count  stop_word_count  \\\n",
       "1357          193        1195                635              492   \n",
       "2080           46         507                289              214   \n",
       "2718          565        3210               1288             1419   \n",
       "812            25         200                144               70   \n",
       "4886           38         257                180               95   \n",
       "\n",
       "      mean_word_length  url_count  hashtag_count  mention_count  \n",
       "1357          5.231799          0              0              1  \n",
       "2080          5.071006          0              0              0  \n",
       "2718          5.011838          0              1              0  \n",
       "812           4.940000          0              0              0  \n",
       "4886          5.081712          0              0              0  "
      ]
     },
     "execution_count": 284,
     "metadata": {},
     "output_type": "execute_result"
    }
   ],
   "source": [
    "df_train.head()"
   ]
  },
  {
   "cell_type": "markdown",
   "metadata": {
    "colab_type": "text",
    "id": "-ZDRYcS6fdcG"
   },
   "source": [
    "# Text Classification"
   ]
  },
  {
   "cell_type": "markdown",
   "metadata": {
    "colab": {},
    "colab_type": "code",
    "id": "lF233miwfGkH"
   },
   "source": [
    "## Only with Numerical Features"
   ]
  },
  {
   "cell_type": "markdown",
   "metadata": {
    "colab": {},
    "colab_type": "code",
    "id": "e63iohwSfGih"
   },
   "source": [
    "### Split the data into train & valid sets"
   ]
  },
  {
   "cell_type": "code",
   "execution_count": 5,
   "metadata": {
    "ExecuteTime": {
     "end_time": "2020-03-30T01:09:47.914727Z",
     "start_time": "2020-03-30T01:09:47.894759Z"
    },
    "colab": {},
    "colab_type": "code",
    "id": "USWgZwHTfGg6"
   },
   "outputs": [],
   "source": [
    "X = df_train._get_numeric_data().drop('Unnamed: 0', axis=1)\n",
    "y = df_train.label"
   ]
  },
  {
   "cell_type": "code",
   "execution_count": 286,
   "metadata": {
    "ExecuteTime": {
     "end_time": "2020-03-19T06:16:36.993778Z",
     "start_time": "2020-03-19T06:16:36.986515Z"
    },
    "colab": {},
    "colab_type": "code",
    "id": "i-WzzOBXfGfS"
   },
   "outputs": [],
   "source": [
    "X_train, X_valid, y_train, y_valid = train_test_split(X, y, test_size=0.3, random_state=42)"
   ]
  },
  {
   "cell_type": "code",
   "execution_count": 288,
   "metadata": {
    "ExecuteTime": {
     "end_time": "2020-03-19T06:16:57.026894Z",
     "start_time": "2020-03-19T06:16:57.021804Z"
    },
    "colab": {},
    "colab_type": "code",
    "id": "OCMlpsbSfGaS"
   },
   "outputs": [
    {
     "name": "stdout",
     "output_type": "stream",
     "text": [
      "Training Data Shape: (3971, 9)\n",
      "Testing Data Shape: (1703, 9)\n"
     ]
    }
   ],
   "source": [
    "print(f'Training Data Shape: {X_train.shape}')\n",
    "print(f'Testing Data Shape: {X_valid.shape}')"
   ]
  },
  {
   "cell_type": "markdown",
   "metadata": {
    "colab": {},
    "colab_type": "code",
    "id": "ZPT1BgoEfGVD"
   },
   "source": [
    "### Train a Logistic Regression Classifier"
   ]
  },
  {
   "cell_type": "code",
   "execution_count": 289,
   "metadata": {
    "ExecuteTime": {
     "end_time": "2020-03-19T06:17:01.554778Z",
     "start_time": "2020-03-19T06:17:01.461536Z"
    },
    "colab": {},
    "colab_type": "code",
    "id": "Q1-vvkG3fGSq"
   },
   "outputs": [
    {
     "data": {
      "text/plain": [
       "LogisticRegression(C=1.0, class_weight=None, dual=False, fit_intercept=True,\n",
       "                   intercept_scaling=1, l1_ratio=None, max_iter=500,\n",
       "                   multi_class='warn', n_jobs=None, penalty='l2',\n",
       "                   random_state=42, solver='lbfgs', tol=0.0001, verbose=0,\n",
       "                   warm_start=False)"
      ]
     },
     "execution_count": 289,
     "metadata": {},
     "output_type": "execute_result"
    }
   ],
   "source": [
    "lr_model = LogisticRegression(solver='lbfgs', random_state=42, max_iter=500)\n",
    "\n",
    "lr_model.fit(X_train, y_train)"
   ]
  },
  {
   "cell_type": "markdown",
   "metadata": {
    "colab": {},
    "colab_type": "code",
    "id": "uLstSw52fGQM"
   },
   "source": [
    "#### Report the results"
   ]
  },
  {
   "cell_type": "code",
   "execution_count": 290,
   "metadata": {
    "ExecuteTime": {
     "end_time": "2020-03-19T06:17:03.306393Z",
     "start_time": "2020-03-19T06:17:03.292229Z"
    },
    "colab": {},
    "colab_type": "code",
    "id": "4507gRulfGNl"
   },
   "outputs": [
    {
     "name": "stdout",
     "output_type": "stream",
     "text": [
      "[[584 258]\n",
      " [312 549]]\n"
     ]
    }
   ],
   "source": [
    "y_pred = lr_model.predict(X_valid)\n",
    "print(confusion_matrix(y_valid, y_pred))"
   ]
  },
  {
   "cell_type": "code",
   "execution_count": 291,
   "metadata": {
    "ExecuteTime": {
     "end_time": "2020-03-19T06:17:04.229610Z",
     "start_time": "2020-03-19T06:17:04.223625Z"
    },
    "colab": {},
    "colab_type": "code",
    "id": "oKn8ZbMBfGK2"
   },
   "outputs": [
    {
     "data": {
      "text/plain": [
       "array(['FAKE', 'REAL'], dtype=object)"
      ]
     },
     "execution_count": 291,
     "metadata": {},
     "output_type": "execute_result"
    }
   ],
   "source": [
    "# ⚠️The label order is important for to correctly assign the confusion matrix\n",
    "df_train.label.unique()"
   ]
  },
  {
   "cell_type": "code",
   "execution_count": 292,
   "metadata": {
    "ExecuteTime": {
     "end_time": "2020-03-19T06:17:04.573862Z",
     "start_time": "2020-03-19T06:17:04.560527Z"
    },
    "colab": {},
    "colab_type": "code",
    "id": "-1sFGVMqfGJP"
   },
   "outputs": [
    {
     "data": {
      "text/html": [
       "<div>\n",
       "<style scoped>\n",
       "    .dataframe tbody tr th:only-of-type {\n",
       "        vertical-align: middle;\n",
       "    }\n",
       "\n",
       "    .dataframe tbody tr th {\n",
       "        vertical-align: top;\n",
       "    }\n",
       "\n",
       "    .dataframe thead th {\n",
       "        text-align: right;\n",
       "    }\n",
       "</style>\n",
       "<table border=\"1\" class=\"dataframe\">\n",
       "  <thead>\n",
       "    <tr style=\"text-align: right;\">\n",
       "      <th></th>\n",
       "      <th>FAKE</th>\n",
       "      <th>REAL</th>\n",
       "    </tr>\n",
       "  </thead>\n",
       "  <tbody>\n",
       "    <tr>\n",
       "      <td>FAKE</td>\n",
       "      <td>584</td>\n",
       "      <td>258</td>\n",
       "    </tr>\n",
       "    <tr>\n",
       "      <td>REAL</td>\n",
       "      <td>312</td>\n",
       "      <td>549</td>\n",
       "    </tr>\n",
       "  </tbody>\n",
       "</table>\n",
       "</div>"
      ],
      "text/plain": [
       "      FAKE  REAL\n",
       "FAKE   584   258\n",
       "REAL   312   549"
      ]
     },
     "metadata": {},
     "output_type": "display_data"
    }
   ],
   "source": [
    "# You can make the confusion matrix less confusing by adding labels:\n",
    "df_conf_mat = pd.DataFrame(confusion_matrix(y_valid,y_pred), index=['FAKE','REAL'], columns=['FAKE','REAL'])\n",
    "display(df_conf_mat)"
   ]
  },
  {
   "cell_type": "code",
   "execution_count": 293,
   "metadata": {
    "ExecuteTime": {
     "end_time": "2020-03-19T06:17:07.626701Z",
     "start_time": "2020-03-19T06:17:07.581344Z"
    },
    "colab": {},
    "colab_type": "code",
    "id": "ST0lon3UfGDm"
   },
   "outputs": [
    {
     "name": "stdout",
     "output_type": "stream",
     "text": [
      "              precision    recall  f1-score   support\n",
      "\n",
      "        FAKE       0.65      0.69      0.67       842\n",
      "        REAL       0.68      0.64      0.66       861\n",
      "\n",
      "    accuracy                           0.67      1703\n",
      "   macro avg       0.67      0.67      0.67      1703\n",
      "weighted avg       0.67      0.67      0.67      1703\n",
      "\n"
     ]
    }
   ],
   "source": [
    "print(classification_report(y_valid, y_pred))"
   ]
  },
  {
   "cell_type": "code",
   "execution_count": 294,
   "metadata": {
    "ExecuteTime": {
     "end_time": "2020-03-19T06:17:07.819216Z",
     "start_time": "2020-03-19T06:17:07.812492Z"
    },
    "colab": {},
    "colab_type": "code",
    "id": "ZdhTWyrGfGA2"
   },
   "outputs": [
    {
     "name": "stdout",
     "output_type": "stream",
     "text": [
      "0.6652965355255431\n"
     ]
    }
   ],
   "source": [
    "print(accuracy_score(y_valid, y_pred))"
   ]
  },
  {
   "cell_type": "markdown",
   "metadata": {
    "colab": {},
    "colab_type": "code",
    "id": "OUTIKMd9fF-T"
   },
   "source": [
    "### Train a Naive Bayes Classifier"
   ]
  },
  {
   "cell_type": "code",
   "execution_count": 295,
   "metadata": {
    "ExecuteTime": {
     "end_time": "2020-03-19T06:17:11.136557Z",
     "start_time": "2020-03-19T06:17:11.120563Z"
    },
    "colab": {},
    "colab_type": "code",
    "id": "8l2nvUGefF8P"
   },
   "outputs": [
    {
     "data": {
      "text/plain": [
       "MultinomialNB(alpha=1.0, class_prior=None, fit_prior=True)"
      ]
     },
     "execution_count": 295,
     "metadata": {},
     "output_type": "execute_result"
    }
   ],
   "source": [
    "nb_model = MultinomialNB()\n",
    "\n",
    "nb_model.fit(X_train, y_train)"
   ]
  },
  {
   "cell_type": "markdown",
   "metadata": {
    "colab": {},
    "colab_type": "code",
    "id": "THokvkJCfF49"
   },
   "source": [
    "#### Report the results"
   ]
  },
  {
   "cell_type": "code",
   "execution_count": 296,
   "metadata": {
    "ExecuteTime": {
     "end_time": "2020-03-19T06:17:12.279575Z",
     "start_time": "2020-03-19T06:17:12.268367Z"
    },
    "colab": {},
    "colab_type": "code",
    "id": "ATPlFXRAfF2v"
   },
   "outputs": [
    {
     "name": "stdout",
     "output_type": "stream",
     "text": [
      "[[679 163]\n",
      " [422 439]]\n"
     ]
    }
   ],
   "source": [
    "y_pred = nb_model.predict(X_valid)\n",
    "print(confusion_matrix(y_valid, y_pred))"
   ]
  },
  {
   "cell_type": "code",
   "execution_count": 297,
   "metadata": {
    "ExecuteTime": {
     "end_time": "2020-03-19T06:17:12.660325Z",
     "start_time": "2020-03-19T06:17:12.619469Z"
    },
    "colab": {},
    "colab_type": "code",
    "id": "gCKbXLhhfF0U"
   },
   "outputs": [
    {
     "name": "stdout",
     "output_type": "stream",
     "text": [
      "              precision    recall  f1-score   support\n",
      "\n",
      "        FAKE       0.62      0.81      0.70       842\n",
      "        REAL       0.73      0.51      0.60       861\n",
      "\n",
      "    accuracy                           0.66      1703\n",
      "   macro avg       0.67      0.66      0.65      1703\n",
      "weighted avg       0.67      0.66      0.65      1703\n",
      "\n"
     ]
    }
   ],
   "source": [
    "print(classification_report(y_valid, y_pred))"
   ]
  },
  {
   "cell_type": "code",
   "execution_count": 298,
   "metadata": {
    "ExecuteTime": {
     "end_time": "2020-03-19T06:17:13.152375Z",
     "start_time": "2020-03-19T06:17:13.142369Z"
    },
    "colab": {},
    "colab_type": "code",
    "id": "wTI8mRMnfFyX"
   },
   "outputs": [
    {
     "name": "stdout",
     "output_type": "stream",
     "text": [
      "0.6564885496183206\n"
     ]
    }
   ],
   "source": [
    "print(accuracy_score(y_valid, y_pred))"
   ]
  },
  {
   "cell_type": "markdown",
   "metadata": {
    "colab": {},
    "colab_type": "code",
    "id": "7BsSoDL7fFur"
   },
   "source": [
    "### Train a Support Vector Machine (SVM) Classifier "
   ]
  },
  {
   "cell_type": "code",
   "execution_count": 307,
   "metadata": {
    "ExecuteTime": {
     "end_time": "2020-03-19T06:17:44.986362Z",
     "start_time": "2020-03-19T06:17:44.623014Z"
    },
    "colab": {},
    "colab_type": "code",
    "id": "p54p-UtbfFs0"
   },
   "outputs": [
    {
     "data": {
      "text/plain": [
       "SVC(C=1.0, cache_size=200, class_weight=None, coef0=0.0,\n",
       "    decision_function_shape='ovr', degree=3, gamma='auto', kernel='rbf',\n",
       "    max_iter=-1, probability=False, random_state=42, shrinking=True, tol=0.001,\n",
       "    verbose=False)"
      ]
     },
     "execution_count": 307,
     "metadata": {},
     "output_type": "execute_result"
    }
   ],
   "source": [
    "svc_model = SVC(gamma='auto', random_state=42)\n",
    "\n",
    "svc_model.fit(X_train,y_train)"
   ]
  },
  {
   "cell_type": "markdown",
   "metadata": {
    "colab": {},
    "colab_type": "code",
    "id": "9sDlPEwKfFqb"
   },
   "source": [
    "#### Report the results"
   ]
  },
  {
   "cell_type": "code",
   "execution_count": 308,
   "metadata": {
    "ExecuteTime": {
     "end_time": "2020-03-19T06:17:45.990833Z",
     "start_time": "2020-03-19T06:17:45.901463Z"
    },
    "colab": {},
    "colab_type": "code",
    "id": "8pe4gAqpfFns"
   },
   "outputs": [
    {
     "name": "stdout",
     "output_type": "stream",
     "text": [
      "[[834   8]\n",
      " [784  77]]\n"
     ]
    }
   ],
   "source": [
    "y_pred = svc_model.predict(X_valid)\n",
    "print(confusion_matrix(y_valid, y_pred))"
   ]
  },
  {
   "cell_type": "code",
   "execution_count": 309,
   "metadata": {
    "ExecuteTime": {
     "end_time": "2020-03-19T06:17:47.225662Z",
     "start_time": "2020-03-19T06:17:47.182088Z"
    },
    "colab": {},
    "colab_type": "code",
    "id": "kTGKZ5JvfFld"
   },
   "outputs": [
    {
     "name": "stdout",
     "output_type": "stream",
     "text": [
      "              precision    recall  f1-score   support\n",
      "\n",
      "        FAKE       0.52      0.99      0.68       842\n",
      "        REAL       0.91      0.09      0.16       861\n",
      "\n",
      "    accuracy                           0.53      1703\n",
      "   macro avg       0.71      0.54      0.42      1703\n",
      "weighted avg       0.71      0.53      0.42      1703\n",
      "\n"
     ]
    }
   ],
   "source": [
    "print(classification_report(y_valid, y_pred))"
   ]
  },
  {
   "cell_type": "code",
   "execution_count": 310,
   "metadata": {
    "ExecuteTime": {
     "end_time": "2020-03-19T06:17:47.626268Z",
     "start_time": "2020-03-19T06:17:47.620280Z"
    },
    "colab": {},
    "colab_type": "code",
    "id": "8gOxSzT6fFkE"
   },
   "outputs": [
    {
     "name": "stdout",
     "output_type": "stream",
     "text": [
      "0.5349383440986495\n"
     ]
    }
   ],
   "source": [
    "print(accuracy_score(y_valid, y_pred))"
   ]
  },
  {
   "cell_type": "markdown",
   "metadata": {
    "colab": {},
    "colab_type": "code",
    "id": "GL8Wm7ctfFii"
   },
   "source": [
    "## Feature Extraction from text"
   ]
  },
  {
   "cell_type": "markdown",
   "metadata": {},
   "source": [
    "### Split the data into train & valid sets"
   ]
  },
  {
   "cell_type": "code",
   "execution_count": 4,
   "metadata": {
    "ExecuteTime": {
     "end_time": "2020-03-29T20:21:24.524323Z",
     "start_time": "2020-03-29T20:21:24.512354Z"
    }
   },
   "outputs": [
    {
     "data": {
      "text/html": [
       "<div>\n",
       "<style scoped>\n",
       "    .dataframe tbody tr th:only-of-type {\n",
       "        vertical-align: middle;\n",
       "    }\n",
       "\n",
       "    .dataframe tbody tr th {\n",
       "        vertical-align: top;\n",
       "    }\n",
       "\n",
       "    .dataframe thead th {\n",
       "        text-align: right;\n",
       "    }\n",
       "</style>\n",
       "<table border=\"1\" class=\"dataframe\">\n",
       "  <thead>\n",
       "    <tr style=\"text-align: right;\">\n",
       "      <th></th>\n",
       "      <th>Unnamed: 0</th>\n",
       "      <th>title</th>\n",
       "      <th>text</th>\n",
       "      <th>label</th>\n",
       "    </tr>\n",
       "  </thead>\n",
       "  <tbody>\n",
       "    <tr>\n",
       "      <th>1357</th>\n",
       "      <td>9957</td>\n",
       "      <td>American Dream, Revisited</td>\n",
       "      <td>Will Trump pull a Brexit times ten? What would...</td>\n",
       "      <td>FAKE</td>\n",
       "    </tr>\n",
       "    <tr>\n",
       "      <th>2080</th>\n",
       "      <td>7596</td>\n",
       "      <td>Clintons Are Under Multiple FBI Investigations...</td>\n",
       "      <td>Clintons Are Under Multiple FBI Investigations...</td>\n",
       "      <td>FAKE</td>\n",
       "    </tr>\n",
       "    <tr>\n",
       "      <th>2718</th>\n",
       "      <td>8905</td>\n",
       "      <td>The FBI Can’t Actually Investigate a Candidate...</td>\n",
       "      <td>Dispatches from Eric Zuesse This piece is cros...</td>\n",
       "      <td>FAKE</td>\n",
       "    </tr>\n",
       "    <tr>\n",
       "      <th>812</th>\n",
       "      <td>8752</td>\n",
       "      <td>Confirmed: Public overwhelmingly (10-to-1) say...</td>\n",
       "      <td>Print \\n[Ed. – Every now and then the facade c...</td>\n",
       "      <td>FAKE</td>\n",
       "    </tr>\n",
       "    <tr>\n",
       "      <th>4886</th>\n",
       "      <td>7804</td>\n",
       "      <td>Nanny In Jail After Force Feeding Baby To Death</td>\n",
       "      <td>Nanny In Jail After Force Feeding Baby To Deat...</td>\n",
       "      <td>FAKE</td>\n",
       "    </tr>\n",
       "  </tbody>\n",
       "</table>\n",
       "</div>"
      ],
      "text/plain": [
       "      Unnamed: 0                                              title  \\\n",
       "1357        9957                          American Dream, Revisited   \n",
       "2080        7596  Clintons Are Under Multiple FBI Investigations...   \n",
       "2718        8905  The FBI Can’t Actually Investigate a Candidate...   \n",
       "812         8752  Confirmed: Public overwhelmingly (10-to-1) say...   \n",
       "4886        7804    Nanny In Jail After Force Feeding Baby To Death   \n",
       "\n",
       "                                                   text label  \n",
       "1357  Will Trump pull a Brexit times ten? What would...  FAKE  \n",
       "2080  Clintons Are Under Multiple FBI Investigations...  FAKE  \n",
       "2718  Dispatches from Eric Zuesse This piece is cros...  FAKE  \n",
       "812   Print \\n[Ed. – Every now and then the facade c...  FAKE  \n",
       "4886  Nanny In Jail After Force Feeding Baby To Deat...  FAKE  "
      ]
     },
     "execution_count": 4,
     "metadata": {},
     "output_type": "execute_result"
    }
   ],
   "source": [
    "df_train.head()"
   ]
  },
  {
   "cell_type": "code",
   "execution_count": 311,
   "metadata": {
    "ExecuteTime": {
     "end_time": "2020-03-19T06:17:54.231198Z",
     "start_time": "2020-03-19T06:17:54.227508Z"
    },
    "colab": {},
    "colab_type": "code",
    "id": "UEG4XpBhfFdw"
   },
   "outputs": [],
   "source": [
    "X = df_train.text\n",
    "y = df_train.label"
   ]
  },
  {
   "cell_type": "code",
   "execution_count": 312,
   "metadata": {
    "ExecuteTime": {
     "end_time": "2020-03-19T06:17:54.649546Z",
     "start_time": "2020-03-19T06:17:54.642609Z"
    },
    "colab": {},
    "colab_type": "code",
    "id": "hpVlPcOQfFbW"
   },
   "outputs": [],
   "source": [
    "X_train, X_valid, y_train, y_valid = train_test_split(X, y, test_size=0.3, random_state=42)"
   ]
  },
  {
   "cell_type": "code",
   "execution_count": 313,
   "metadata": {
    "ExecuteTime": {
     "end_time": "2020-03-19T06:18:10.162138Z",
     "start_time": "2020-03-19T06:18:10.155330Z"
    }
   },
   "outputs": [
    {
     "name": "stdout",
     "output_type": "stream",
     "text": [
      "Training Data Shape: (3971,)\n",
      "Testing Data Shape: (1703,)\n"
     ]
    }
   ],
   "source": [
    "print(f'Training Data Shape: {X_train.shape}')\n",
    "print(f'Testing Data Shape: {X_valid.shape}')"
   ]
  },
  {
   "cell_type": "markdown",
   "metadata": {},
   "source": [
    "### Train a Logistic Regression Classifier"
   ]
  },
  {
   "cell_type": "code",
   "execution_count": 314,
   "metadata": {
    "ExecuteTime": {
     "end_time": "2020-03-19T06:18:22.374348Z",
     "start_time": "2020-03-19T06:18:19.385189Z"
    }
   },
   "outputs": [],
   "source": [
    "tfidf = TfidfVectorizer()\n",
    "\n",
    "X_train_tfidf = tfidf.fit_transform(X_train) \n",
    "X_valid_tfidf = tfidf.transform(X_valid)"
   ]
  },
  {
   "cell_type": "code",
   "execution_count": 315,
   "metadata": {
    "ExecuteTime": {
     "end_time": "2020-03-19T06:18:23.298970Z",
     "start_time": "2020-03-19T06:18:23.291368Z"
    }
   },
   "outputs": [
    {
     "data": {
      "text/plain": [
       "(3971, 55640)"
      ]
     },
     "execution_count": 315,
     "metadata": {},
     "output_type": "execute_result"
    }
   ],
   "source": [
    "X_train_tfidf.shape"
   ]
  },
  {
   "cell_type": "code",
   "execution_count": 316,
   "metadata": {
    "ExecuteTime": {
     "end_time": "2020-03-19T06:18:24.516504Z",
     "start_time": "2020-03-19T06:18:24.491319Z"
    }
   },
   "outputs": [
    {
     "name": "stdout",
     "output_type": "stream",
     "text": [
      "  (0, 19257)\t0.01283726062007641\n",
      "  (0, 3814)\t0.024468805913925976\n",
      "  (0, 35504)\t0.010673110772236483\n",
      "  (0, 38146)\t0.018260946895869618\n",
      "  (0, 7755)\t0.03425712453165526\n",
      "  (0, 40644)\t0.03802452328501216\n",
      "  (0, 50407)\t0.05986719337460776\n",
      "  (0, 47515)\t0.05348407327162572\n",
      "  (0, 45737)\t0.05986719337460776\n",
      "  (0, 49789)\t0.007249029839134223\n",
      "  (0, 46536)\t0.05221397377820609\n",
      "  (0, 20738)\t0.05986719337460776\n",
      "  (0, 13836)\t0.039928355900539544\n",
      "  (0, 4283)\t0.05348407327162572\n",
      "  (0, 30004)\t0.05114011995750755\n",
      "  (0, 54575)\t0.05274527705890672\n",
      "  (0, 33166)\t0.035615967399534224\n",
      "  (0, 50128)\t0.02891852658209403\n",
      "  (0, 1981)\t0.05986719337460776\n",
      "  (0, 52817)\t0.05986719337460776\n",
      "  (0, 12904)\t0.036779709702064865\n",
      "  (0, 97)\t0.018068399795407756\n",
      "  (0, 26562)\t0.05986719337460776\n",
      "  (0, 3411)\t0.04583085367522404\n",
      "  (0, 50135)\t0.07871092773969554\n",
      "  :\t:\n",
      "  (3970, 11415)\t0.04316599946596808\n",
      "  (3970, 44177)\t0.01715245670548522\n",
      "  (3970, 19257)\t0.019080040419165174\n",
      "  (3970, 35504)\t0.015863461135471376\n",
      "  (3970, 38146)\t0.027141273763697044\n",
      "  (3970, 49789)\t0.19393639777429855\n",
      "  (3970, 35268)\t0.03735649121586715\n",
      "  (3970, 34463)\t0.017730817070076406\n",
      "  (3970, 13209)\t0.03404474987218312\n",
      "  (3970, 19926)\t0.013779224476195248\n",
      "  (3970, 35088)\t0.08585385333978157\n",
      "  (3970, 33864)\t0.05054956655804464\n",
      "  (3970, 24990)\t0.012104445654021656\n",
      "  (3970, 34889)\t0.1147665920740408\n",
      "  (3970, 22723)\t0.006586977910042944\n",
      "  (3970, 611)\t0.02054773787442772\n",
      "  (3970, 608)\t0.01763534812074389\n",
      "  (3970, 24883)\t0.1541842521641279\n",
      "  (3970, 3380)\t0.130798570547517\n",
      "  (3970, 3311)\t0.06004370764680223\n",
      "  (3970, 26241)\t0.052155525228218154\n",
      "  (3970, 8220)\t0.012501448676005857\n",
      "  (3970, 49254)\t0.3897120143828385\n",
      "  (3970, 4039)\t0.05185555129901826\n",
      "  (3970, 53557)\t0.022419986491173077\n"
     ]
    }
   ],
   "source": [
    "# 1st text X_train, word ID, tfidf score\n",
    "print(X_train_tfidf)"
   ]
  },
  {
   "cell_type": "code",
   "execution_count": 317,
   "metadata": {
    "ExecuteTime": {
     "end_time": "2020-03-19T06:18:28.584423Z",
     "start_time": "2020-03-19T06:18:27.220461Z"
    }
   },
   "outputs": [],
   "source": [
    "tfidf_df = pd.DataFrame(X_train_tfidf.toarray(), columns=tfidf.get_feature_names())"
   ]
  },
  {
   "cell_type": "code",
   "execution_count": 318,
   "metadata": {
    "ExecuteTime": {
     "end_time": "2020-03-19T06:18:28.621272Z",
     "start_time": "2020-03-19T06:18:28.586862Z"
    }
   },
   "outputs": [
    {
     "data": {
      "text/html": [
       "<div>\n",
       "<style scoped>\n",
       "    .dataframe tbody tr th:only-of-type {\n",
       "        vertical-align: middle;\n",
       "    }\n",
       "\n",
       "    .dataframe tbody tr th {\n",
       "        vertical-align: top;\n",
       "    }\n",
       "\n",
       "    .dataframe thead th {\n",
       "        text-align: right;\n",
       "    }\n",
       "</style>\n",
       "<table border=\"1\" class=\"dataframe\">\n",
       "  <thead>\n",
       "    <tr style=\"text-align: right;\">\n",
       "      <th></th>\n",
       "      <th>00</th>\n",
       "      <th>000</th>\n",
       "      <th>000000031</th>\n",
       "      <th>00000031</th>\n",
       "      <th>000035</th>\n",
       "      <th>00006</th>\n",
       "      <th>0001</th>\n",
       "      <th>0001pt</th>\n",
       "      <th>000billion</th>\n",
       "      <th>000ft</th>\n",
       "      <th>...</th>\n",
       "      <th>שתי</th>\n",
       "      <th>תאמצנה</th>\n",
       "      <th>תוצאה</th>\n",
       "      <th>תחל</th>\n",
       "      <th>תיירות</th>\n",
       "      <th>תנותק</th>\n",
       "      <th>תעודת</th>\n",
       "      <th>תתרכז</th>\n",
       "      <th>القادمون</th>\n",
       "      <th>عربي</th>\n",
       "    </tr>\n",
       "  </thead>\n",
       "  <tbody>\n",
       "    <tr>\n",
       "      <td>0</td>\n",
       "      <td>0.0</td>\n",
       "      <td>0.0</td>\n",
       "      <td>0.0</td>\n",
       "      <td>0.0</td>\n",
       "      <td>0.0</td>\n",
       "      <td>0.0</td>\n",
       "      <td>0.0</td>\n",
       "      <td>0.0</td>\n",
       "      <td>0.0</td>\n",
       "      <td>0.0</td>\n",
       "      <td>...</td>\n",
       "      <td>0.0</td>\n",
       "      <td>0.0</td>\n",
       "      <td>0.0</td>\n",
       "      <td>0.0</td>\n",
       "      <td>0.0</td>\n",
       "      <td>0.0</td>\n",
       "      <td>0.0</td>\n",
       "      <td>0.0</td>\n",
       "      <td>0.0</td>\n",
       "      <td>0.0</td>\n",
       "    </tr>\n",
       "    <tr>\n",
       "      <td>1</td>\n",
       "      <td>0.0</td>\n",
       "      <td>0.0</td>\n",
       "      <td>0.0</td>\n",
       "      <td>0.0</td>\n",
       "      <td>0.0</td>\n",
       "      <td>0.0</td>\n",
       "      <td>0.0</td>\n",
       "      <td>0.0</td>\n",
       "      <td>0.0</td>\n",
       "      <td>0.0</td>\n",
       "      <td>...</td>\n",
       "      <td>0.0</td>\n",
       "      <td>0.0</td>\n",
       "      <td>0.0</td>\n",
       "      <td>0.0</td>\n",
       "      <td>0.0</td>\n",
       "      <td>0.0</td>\n",
       "      <td>0.0</td>\n",
       "      <td>0.0</td>\n",
       "      <td>0.0</td>\n",
       "      <td>0.0</td>\n",
       "    </tr>\n",
       "    <tr>\n",
       "      <td>2</td>\n",
       "      <td>0.0</td>\n",
       "      <td>0.0</td>\n",
       "      <td>0.0</td>\n",
       "      <td>0.0</td>\n",
       "      <td>0.0</td>\n",
       "      <td>0.0</td>\n",
       "      <td>0.0</td>\n",
       "      <td>0.0</td>\n",
       "      <td>0.0</td>\n",
       "      <td>0.0</td>\n",
       "      <td>...</td>\n",
       "      <td>0.0</td>\n",
       "      <td>0.0</td>\n",
       "      <td>0.0</td>\n",
       "      <td>0.0</td>\n",
       "      <td>0.0</td>\n",
       "      <td>0.0</td>\n",
       "      <td>0.0</td>\n",
       "      <td>0.0</td>\n",
       "      <td>0.0</td>\n",
       "      <td>0.0</td>\n",
       "    </tr>\n",
       "    <tr>\n",
       "      <td>3</td>\n",
       "      <td>0.0</td>\n",
       "      <td>0.0</td>\n",
       "      <td>0.0</td>\n",
       "      <td>0.0</td>\n",
       "      <td>0.0</td>\n",
       "      <td>0.0</td>\n",
       "      <td>0.0</td>\n",
       "      <td>0.0</td>\n",
       "      <td>0.0</td>\n",
       "      <td>0.0</td>\n",
       "      <td>...</td>\n",
       "      <td>0.0</td>\n",
       "      <td>0.0</td>\n",
       "      <td>0.0</td>\n",
       "      <td>0.0</td>\n",
       "      <td>0.0</td>\n",
       "      <td>0.0</td>\n",
       "      <td>0.0</td>\n",
       "      <td>0.0</td>\n",
       "      <td>0.0</td>\n",
       "      <td>0.0</td>\n",
       "    </tr>\n",
       "    <tr>\n",
       "      <td>4</td>\n",
       "      <td>0.0</td>\n",
       "      <td>0.0</td>\n",
       "      <td>0.0</td>\n",
       "      <td>0.0</td>\n",
       "      <td>0.0</td>\n",
       "      <td>0.0</td>\n",
       "      <td>0.0</td>\n",
       "      <td>0.0</td>\n",
       "      <td>0.0</td>\n",
       "      <td>0.0</td>\n",
       "      <td>...</td>\n",
       "      <td>0.0</td>\n",
       "      <td>0.0</td>\n",
       "      <td>0.0</td>\n",
       "      <td>0.0</td>\n",
       "      <td>0.0</td>\n",
       "      <td>0.0</td>\n",
       "      <td>0.0</td>\n",
       "      <td>0.0</td>\n",
       "      <td>0.0</td>\n",
       "      <td>0.0</td>\n",
       "    </tr>\n",
       "  </tbody>\n",
       "</table>\n",
       "<p>5 rows × 55640 columns</p>\n",
       "</div>"
      ],
      "text/plain": [
       "    00  000  000000031  00000031  000035  00006  0001  0001pt  000billion  \\\n",
       "0  0.0  0.0        0.0       0.0     0.0    0.0   0.0     0.0         0.0   \n",
       "1  0.0  0.0        0.0       0.0     0.0    0.0   0.0     0.0         0.0   \n",
       "2  0.0  0.0        0.0       0.0     0.0    0.0   0.0     0.0         0.0   \n",
       "3  0.0  0.0        0.0       0.0     0.0    0.0   0.0     0.0         0.0   \n",
       "4  0.0  0.0        0.0       0.0     0.0    0.0   0.0     0.0         0.0   \n",
       "\n",
       "   000ft  ...  שתי  תאמצנה  תוצאה  תחל  תיירות  תנותק  תעודת  תתרכז  القادمون  \\\n",
       "0    0.0  ...  0.0     0.0    0.0  0.0     0.0    0.0    0.0    0.0       0.0   \n",
       "1    0.0  ...  0.0     0.0    0.0  0.0     0.0    0.0    0.0    0.0       0.0   \n",
       "2    0.0  ...  0.0     0.0    0.0  0.0     0.0    0.0    0.0    0.0       0.0   \n",
       "3    0.0  ...  0.0     0.0    0.0  0.0     0.0    0.0    0.0    0.0       0.0   \n",
       "4    0.0  ...  0.0     0.0    0.0  0.0     0.0    0.0    0.0    0.0       0.0   \n",
       "\n",
       "   عربي  \n",
       "0   0.0  \n",
       "1   0.0  \n",
       "2   0.0  \n",
       "3   0.0  \n",
       "4   0.0  \n",
       "\n",
       "[5 rows x 55640 columns]"
      ]
     },
     "execution_count": 318,
     "metadata": {},
     "output_type": "execute_result"
    }
   ],
   "source": [
    "tfidf_df.head()"
   ]
  },
  {
   "cell_type": "code",
   "execution_count": 5,
   "metadata": {
    "ExecuteTime": {
     "end_time": "2020-06-16T23:24:53.525876Z",
     "start_time": "2020-06-16T23:24:53.521876Z"
    }
   },
   "outputs": [],
   "source": [
    "# Each word is assigned to a word ID\n",
    "tfidf.vocabulary_"
   ]
  },
  {
   "cell_type": "code",
   "execution_count": 320,
   "metadata": {
    "ExecuteTime": {
     "end_time": "2020-03-19T06:18:37.289570Z",
     "start_time": "2020-03-19T06:18:37.228393Z"
    }
   },
   "outputs": [
    {
     "data": {
      "text/plain": [
       "'we'"
      ]
     },
     "execution_count": 320,
     "metadata": {},
     "output_type": "execute_result"
    }
   ],
   "source": [
    "tfidf.get_feature_names()[53557]"
   ]
  },
  {
   "cell_type": "code",
   "execution_count": 321,
   "metadata": {
    "ExecuteTime": {
     "end_time": "2020-03-19T06:18:45.117473Z",
     "start_time": "2020-03-19T06:18:44.594708Z"
    }
   },
   "outputs": [
    {
     "data": {
      "text/plain": [
       "LogisticRegression(C=1.0, class_weight=None, dual=False, fit_intercept=True,\n",
       "                   intercept_scaling=1, l1_ratio=None, max_iter=100,\n",
       "                   multi_class='warn', n_jobs=None, penalty='l2',\n",
       "                   random_state=42, solver='lbfgs', tol=0.0001, verbose=0,\n",
       "                   warm_start=False)"
      ]
     },
     "execution_count": 321,
     "metadata": {},
     "output_type": "execute_result"
    }
   ],
   "source": [
    "lr_model = LogisticRegression(solver='lbfgs', random_state=42)\n",
    "\n",
    "lr_model.fit(X_train_tfidf, y_train)"
   ]
  },
  {
   "cell_type": "markdown",
   "metadata": {},
   "source": [
    "#### Report the results"
   ]
  },
  {
   "cell_type": "code",
   "execution_count": 322,
   "metadata": {
    "ExecuteTime": {
     "end_time": "2020-03-19T06:18:46.083500Z",
     "start_time": "2020-03-19T06:18:46.064712Z"
    }
   },
   "outputs": [
    {
     "name": "stdout",
     "output_type": "stream",
     "text": [
      "[[786  56]\n",
      " [ 88 773]]\n"
     ]
    }
   ],
   "source": [
    "y_pred = lr_model.predict(X_valid_tfidf)\n",
    "print(confusion_matrix(y_valid, y_pred))"
   ]
  },
  {
   "cell_type": "code",
   "execution_count": 323,
   "metadata": {
    "ExecuteTime": {
     "end_time": "2020-03-19T06:18:47.101414Z",
     "start_time": "2020-03-19T06:18:47.047041Z"
    }
   },
   "outputs": [
    {
     "name": "stdout",
     "output_type": "stream",
     "text": [
      "              precision    recall  f1-score   support\n",
      "\n",
      "        FAKE       0.90      0.93      0.92       842\n",
      "        REAL       0.93      0.90      0.91       861\n",
      "\n",
      "    accuracy                           0.92      1703\n",
      "   macro avg       0.92      0.92      0.92      1703\n",
      "weighted avg       0.92      0.92      0.92      1703\n",
      "\n"
     ]
    }
   ],
   "source": [
    "print(classification_report(y_valid, y_pred))"
   ]
  },
  {
   "cell_type": "code",
   "execution_count": 324,
   "metadata": {
    "ExecuteTime": {
     "end_time": "2020-03-19T06:18:47.823791Z",
     "start_time": "2020-03-19T06:18:47.817752Z"
    }
   },
   "outputs": [
    {
     "name": "stdout",
     "output_type": "stream",
     "text": [
      "0.9154433352906636\n"
     ]
    }
   ],
   "source": [
    "print(accuracy_score(y_valid, y_pred))"
   ]
  },
  {
   "cell_type": "markdown",
   "metadata": {},
   "source": [
    "#### Using Logistic Regression coefficients"
   ]
  },
  {
   "cell_type": "code",
   "execution_count": 325,
   "metadata": {
    "ExecuteTime": {
     "end_time": "2020-03-19T06:19:16.486897Z",
     "start_time": "2020-03-19T06:19:16.471509Z"
    }
   },
   "outputs": [],
   "source": [
    "col_name = [i for i in tfidf_df.columns]\n",
    "coef_value = [i for i in lr_model.coef_.tolist()[0]]"
   ]
  },
  {
   "cell_type": "code",
   "execution_count": 326,
   "metadata": {
    "ExecuteTime": {
     "end_time": "2020-03-19T06:19:26.024682Z",
     "start_time": "2020-03-19T06:19:26.010792Z"
    }
   },
   "outputs": [],
   "source": [
    "dico = dict(zip(col_name, coef_value))"
   ]
  },
  {
   "cell_type": "code",
   "execution_count": 335,
   "metadata": {
    "ExecuteTime": {
     "end_time": "2020-03-19T06:21:48.266230Z",
     "start_time": "2020-03-19T06:21:48.216129Z"
    }
   },
   "outputs": [
    {
     "data": {
      "text/plain": [
       "[('said', 5.956685076831345),\n",
       " ('hillary', -3.784484261373626),\n",
       " ('2016', -3.652911552745588),\n",
       " ('october', -2.8557914384120235),\n",
       " ('he', 2.7595200295696585),\n",
       " ('but', 2.637393945195805),\n",
       " ('election', -2.556211681018725),\n",
       " ('that', 2.554334038576233),\n",
       " ('us', -2.5290072912043726),\n",
       " ('in', 2.525647921312758),\n",
       " ('sanders', 2.4454754812695594),\n",
       " ('fbi', -2.4095908977426452),\n",
       " ('his', 2.256222329877455),\n",
       " ('by', -2.2498468286456794),\n",
       " ('cruz', 2.196120062484507)]"
      ]
     },
     "execution_count": 335,
     "metadata": {},
     "output_type": "execute_result"
    }
   ],
   "source": [
    "# We print the 15 words with the highest absolute coef\n",
    "sorted(dico.items(), key=lambda x: abs(x[1]), reverse=True)[:15]"
   ]
  },
  {
   "cell_type": "markdown",
   "metadata": {},
   "source": [
    "### Train a Naive Bayes Classifier"
   ]
  },
  {
   "cell_type": "code",
   "execution_count": 338,
   "metadata": {
    "ExecuteTime": {
     "end_time": "2020-03-19T06:22:24.200923Z",
     "start_time": "2020-03-19T06:22:22.008752Z"
    }
   },
   "outputs": [
    {
     "data": {
      "text/plain": [
       "Pipeline(memory=None,\n",
       "         steps=[('tfidf',\n",
       "                 TfidfVectorizer(analyzer='word', binary=False,\n",
       "                                 decode_error='strict',\n",
       "                                 dtype=<class 'numpy.float64'>,\n",
       "                                 encoding='utf-8', input='content',\n",
       "                                 lowercase=True, max_df=1.0, max_features=None,\n",
       "                                 min_df=1, ngram_range=(1, 1), norm='l2',\n",
       "                                 preprocessor=None, smooth_idf=True,\n",
       "                                 stop_words=None, strip_accents=None,\n",
       "                                 sublinear_tf=False,\n",
       "                                 token_pattern='(?u)\\\\b\\\\w\\\\w+\\\\b',\n",
       "                                 tokenizer=None, use_idf=True,\n",
       "                                 vocabulary=None)),\n",
       "                ('nb_model',\n",
       "                 MultinomialNB(alpha=1.0, class_prior=None, fit_prior=True))],\n",
       "         verbose=False)"
      ]
     },
     "execution_count": 338,
     "metadata": {},
     "output_type": "execute_result"
    }
   ],
   "source": [
    "text_clf = Pipeline([('tfidf', TfidfVectorizer()),\n",
    "                    ('nb_model', MultinomialNB())])\n",
    "\n",
    "text_clf.fit(X_train, y_train)"
   ]
  },
  {
   "cell_type": "markdown",
   "metadata": {},
   "source": [
    "#### Report the results"
   ]
  },
  {
   "cell_type": "code",
   "execution_count": 339,
   "metadata": {
    "ExecuteTime": {
     "end_time": "2020-03-19T06:22:26.170121Z",
     "start_time": "2020-03-19T06:22:25.047967Z"
    }
   },
   "outputs": [],
   "source": [
    "y_pred = text_clf.predict(X_valid)"
   ]
  },
  {
   "cell_type": "code",
   "execution_count": 340,
   "metadata": {
    "ExecuteTime": {
     "end_time": "2020-03-19T06:22:26.185476Z",
     "start_time": "2020-03-19T06:22:26.173937Z"
    }
   },
   "outputs": [
    {
     "name": "stdout",
     "output_type": "stream",
     "text": [
      "[[512 330]\n",
      " [  8 853]]\n"
     ]
    }
   ],
   "source": [
    "print(confusion_matrix(y_valid, y_pred))"
   ]
  },
  {
   "cell_type": "code",
   "execution_count": 341,
   "metadata": {
    "ExecuteTime": {
     "end_time": "2020-03-19T06:22:26.279364Z",
     "start_time": "2020-03-19T06:22:26.242535Z"
    }
   },
   "outputs": [
    {
     "name": "stdout",
     "output_type": "stream",
     "text": [
      "              precision    recall  f1-score   support\n",
      "\n",
      "        FAKE       0.98      0.61      0.75       842\n",
      "        REAL       0.72      0.99      0.83       861\n",
      "\n",
      "    accuracy                           0.80      1703\n",
      "   macro avg       0.85      0.80      0.79      1703\n",
      "weighted avg       0.85      0.80      0.79      1703\n",
      "\n"
     ]
    }
   ],
   "source": [
    "print(classification_report(y_valid, y_pred))"
   ]
  },
  {
   "cell_type": "code",
   "execution_count": 342,
   "metadata": {
    "ExecuteTime": {
     "end_time": "2020-03-19T06:22:27.072876Z",
     "start_time": "2020-03-19T06:22:27.061940Z"
    }
   },
   "outputs": [
    {
     "name": "stdout",
     "output_type": "stream",
     "text": [
      "0.8015267175572519\n"
     ]
    }
   ],
   "source": [
    "print(accuracy_score(y_valid, y_pred))"
   ]
  },
  {
   "cell_type": "markdown",
   "metadata": {
    "colab": {},
    "colab_type": "code",
    "id": "RxH6lJHpfFYK"
   },
   "source": [
    "### Train a Linear SVC"
   ]
  },
  {
   "cell_type": "code",
   "execution_count": 343,
   "metadata": {
    "ExecuteTime": {
     "end_time": "2020-03-19T06:22:31.992496Z",
     "start_time": "2020-03-19T06:22:29.608729Z"
    },
    "colab": {},
    "colab_type": "code",
    "id": "LHcLFZhKfFVd"
   },
   "outputs": [
    {
     "data": {
      "text/plain": [
       "Pipeline(memory=None,\n",
       "         steps=[('tfidf',\n",
       "                 TfidfVectorizer(analyzer='word', binary=False,\n",
       "                                 decode_error='strict',\n",
       "                                 dtype=<class 'numpy.float64'>,\n",
       "                                 encoding='utf-8', input='content',\n",
       "                                 lowercase=True, max_df=1.0, max_features=None,\n",
       "                                 min_df=1, ngram_range=(1, 1), norm='l2',\n",
       "                                 preprocessor=None, smooth_idf=True,\n",
       "                                 stop_words=None, strip_accents=None,\n",
       "                                 sublinear_tf=False,\n",
       "                                 token_pattern='(?u)\\\\b\\\\w\\\\w+\\\\b',\n",
       "                                 tokenizer=None, use_idf=True,\n",
       "                                 vocabulary=None)),\n",
       "                ('clf',\n",
       "                 LinearSVC(C=1.0, class_weight=None, dual=True,\n",
       "                           fit_intercept=True, intercept_scaling=1,\n",
       "                           loss='squared_hinge', max_iter=1000,\n",
       "                           multi_class='ovr', penalty='l2', random_state=42,\n",
       "                           tol=0.0001, verbose=0))],\n",
       "         verbose=False)"
      ]
     },
     "execution_count": 343,
     "metadata": {},
     "output_type": "execute_result"
    }
   ],
   "source": [
    "text_clf = Pipeline([('tfidf', TfidfVectorizer()),\n",
    "                    ('clf', LinearSVC(random_state=42))])\n",
    "\n",
    "text_clf.fit(X_train, y_train)"
   ]
  },
  {
   "cell_type": "markdown",
   "metadata": {
    "colab": {},
    "colab_type": "code",
    "id": "m3DllVXAfFSI"
   },
   "source": [
    "#### Report the results"
   ]
  },
  {
   "cell_type": "code",
   "execution_count": 344,
   "metadata": {
    "ExecuteTime": {
     "end_time": "2020-03-19T06:22:33.972760Z",
     "start_time": "2020-03-19T06:22:32.857210Z"
    },
    "colab": {},
    "colab_type": "code",
    "id": "ly9HIAl9fFFe"
   },
   "outputs": [],
   "source": [
    "y_pred = text_clf.predict(X_valid)"
   ]
  },
  {
   "cell_type": "code",
   "execution_count": 345,
   "metadata": {
    "ExecuteTime": {
     "end_time": "2020-03-19T06:22:34.459728Z",
     "start_time": "2020-03-19T06:22:34.450229Z"
    }
   },
   "outputs": [
    {
     "name": "stdout",
     "output_type": "stream",
     "text": [
      "[[802  40]\n",
      " [ 61 800]]\n"
     ]
    }
   ],
   "source": [
    "print(confusion_matrix(y_valid, y_pred))"
   ]
  },
  {
   "cell_type": "code",
   "execution_count": 346,
   "metadata": {
    "ExecuteTime": {
     "end_time": "2020-03-19T06:22:35.454552Z",
     "start_time": "2020-03-19T06:22:35.409851Z"
    }
   },
   "outputs": [
    {
     "name": "stdout",
     "output_type": "stream",
     "text": [
      "              precision    recall  f1-score   support\n",
      "\n",
      "        FAKE       0.93      0.95      0.94       842\n",
      "        REAL       0.95      0.93      0.94       861\n",
      "\n",
      "    accuracy                           0.94      1703\n",
      "   macro avg       0.94      0.94      0.94      1703\n",
      "weighted avg       0.94      0.94      0.94      1703\n",
      "\n"
     ]
    }
   ],
   "source": [
    "print(classification_report(y_valid, y_pred))"
   ]
  },
  {
   "cell_type": "code",
   "execution_count": 347,
   "metadata": {
    "ExecuteTime": {
     "end_time": "2020-03-19T06:22:35.691977Z",
     "start_time": "2020-03-19T06:22:35.685424Z"
    }
   },
   "outputs": [
    {
     "name": "stdout",
     "output_type": "stream",
     "text": [
      "0.9406928948913682\n"
     ]
    }
   ],
   "source": [
    "print(accuracy_score(y_valid, y_pred))"
   ]
  },
  {
   "cell_type": "markdown",
   "metadata": {},
   "source": [
    "## Prediction on the test set"
   ]
  },
  {
   "cell_type": "code",
   "execution_count": 348,
   "metadata": {
    "ExecuteTime": {
     "end_time": "2020-03-19T06:22:39.861525Z",
     "start_time": "2020-03-19T06:22:39.858083Z"
    }
   },
   "outputs": [],
   "source": [
    "X_test = df_test['text']\n",
    "y_test = df_test['label']"
   ]
  },
  {
   "cell_type": "markdown",
   "metadata": {},
   "source": [
    "### Fit our best model on all the train data"
   ]
  },
  {
   "cell_type": "code",
   "execution_count": 349,
   "metadata": {
    "ExecuteTime": {
     "end_time": "2020-03-19T06:22:45.785309Z",
     "start_time": "2020-03-19T06:22:42.386506Z"
    }
   },
   "outputs": [
    {
     "data": {
      "text/plain": [
       "Pipeline(memory=None,\n",
       "         steps=[('tfidf',\n",
       "                 TfidfVectorizer(analyzer='word', binary=False,\n",
       "                                 decode_error='strict',\n",
       "                                 dtype=<class 'numpy.float64'>,\n",
       "                                 encoding='utf-8', input='content',\n",
       "                                 lowercase=True, max_df=1.0, max_features=None,\n",
       "                                 min_df=1, ngram_range=(1, 1), norm='l2',\n",
       "                                 preprocessor=None, smooth_idf=True,\n",
       "                                 stop_words=None, strip_accents=None,\n",
       "                                 sublinear_tf=False,\n",
       "                                 token_pattern='(?u)\\\\b\\\\w\\\\w+\\\\b',\n",
       "                                 tokenizer=None, use_idf=True,\n",
       "                                 vocabulary=None)),\n",
       "                ('clf',\n",
       "                 LinearSVC(C=1.0, class_weight=None, dual=True,\n",
       "                           fit_intercept=True, intercept_scaling=1,\n",
       "                           loss='squared_hinge', max_iter=1000,\n",
       "                           multi_class='ovr', penalty='l2', random_state=42,\n",
       "                           tol=0.0001, verbose=0))],\n",
       "         verbose=False)"
      ]
     },
     "execution_count": 349,
     "metadata": {},
     "output_type": "execute_result"
    }
   ],
   "source": [
    "text_clf = Pipeline([('tfidf', TfidfVectorizer()),\n",
    "                    ('clf', LinearSVC(random_state=42))])\n",
    "\n",
    "text_clf.fit(X, y)"
   ]
  },
  {
   "cell_type": "markdown",
   "metadata": {},
   "source": [
    "### Report the results"
   ]
  },
  {
   "cell_type": "code",
   "execution_count": 350,
   "metadata": {
    "ExecuteTime": {
     "end_time": "2020-03-19T06:22:47.381963Z",
     "start_time": "2020-03-19T06:22:47.001252Z"
    }
   },
   "outputs": [],
   "source": [
    "y_pred = text_clf.predict(X_test)"
   ]
  },
  {
   "cell_type": "code",
   "execution_count": 351,
   "metadata": {
    "ExecuteTime": {
     "end_time": "2020-03-19T06:22:48.209816Z",
     "start_time": "2020-03-19T06:22:48.203369Z"
    }
   },
   "outputs": [
    {
     "name": "stdout",
     "output_type": "stream",
     "text": [
      "[[294  15]\n",
      " [ 23 301]]\n"
     ]
    }
   ],
   "source": [
    "print(confusion_matrix(y_test, y_pred))"
   ]
  },
  {
   "cell_type": "code",
   "execution_count": 352,
   "metadata": {
    "ExecuteTime": {
     "end_time": "2020-03-19T06:22:48.781176Z",
     "start_time": "2020-03-19T06:22:48.760643Z"
    }
   },
   "outputs": [
    {
     "name": "stdout",
     "output_type": "stream",
     "text": [
      "              precision    recall  f1-score   support\n",
      "\n",
      "        FAKE       0.93      0.95      0.94       309\n",
      "        REAL       0.95      0.93      0.94       324\n",
      "\n",
      "    accuracy                           0.94       633\n",
      "   macro avg       0.94      0.94      0.94       633\n",
      "weighted avg       0.94      0.94      0.94       633\n",
      "\n"
     ]
    }
   ],
   "source": [
    "print(classification_report(y_test, y_pred))"
   ]
  },
  {
   "cell_type": "code",
   "execution_count": 353,
   "metadata": {
    "ExecuteTime": {
     "end_time": "2020-03-19T06:22:49.922601Z",
     "start_time": "2020-03-19T06:22:49.917978Z"
    }
   },
   "outputs": [
    {
     "name": "stdout",
     "output_type": "stream",
     "text": [
      "0.9399684044233807\n"
     ]
    }
   ],
   "source": [
    "print(accuracy_score(y_test, y_pred))"
   ]
  },
  {
   "cell_type": "markdown",
   "metadata": {
    "colab_type": "text",
    "id": "TTGEdyVNYmya"
   },
   "source": [
    "# Deep Learning"
   ]
  },
  {
   "cell_type": "code",
   "execution_count": 0,
   "metadata": {
    "colab": {},
    "colab_type": "code",
    "id": "NkuQY9-WkkVM"
   },
   "outputs": [],
   "source": [
    "import torch\n",
    "from torchtext import data\n",
    "from torchtext import datasets\n",
    "import random\n",
    "\n",
    "SEED = 1234\n",
    "\n",
    "#torch.manual_seed(SEED)\n",
    "\n",
    "\n",
    "TEXT = data.Field(tokenize = 'spacy', batch_first = True)\n",
    "LABEL = data.LabelField(dtype = torch.float)"
   ]
  },
  {
   "cell_type": "code",
   "execution_count": 0,
   "metadata": {
    "colab": {},
    "colab_type": "code",
    "id": "PUEExrPhYk1e"
   },
   "outputs": [],
   "source": [
    "#defining tuples (le premier du tuple doit match notre nom de dataset tabulaire, le deuxieme doit match son field)\n",
    "fields = [(\"Unnamed: 0\",None),(\"title\", None),(\"text\", TEXT),(\"label\", LABEL)]"
   ]
  },
  {
   "cell_type": "code",
   "execution_count": 0,
   "metadata": {
    "colab": {},
    "colab_type": "code",
    "id": "P5Y9AUgRYk0F"
   },
   "outputs": [],
   "source": [
    "#importer les donnees dependement de si on a train, valid, test ou bien juste train / test. Ici on a juste un fichier train, voir sentiment 1 pour multi fichier options (pas de .split apres TabularDataset)\n",
    "train = data.TabularDataset(path = 'fake_or_real_news.csv',\n",
    "                                format = 'csv',\n",
    "                                fields = fields,\n",
    "                                skip_header = True )"
   ]
  },
  {
   "cell_type": "code",
   "execution_count": 0,
   "metadata": {
    "colab": {},
    "colab_type": "code",
    "id": "L6CmRd9_Ykxy"
   },
   "outputs": [],
   "source": [
    "train_data, valid_data = train.split(split_ratio = 0.8, random_state = random.seed(SEED))"
   ]
  },
  {
   "cell_type": "code",
   "execution_count": 0,
   "metadata": {
    "colab": {},
    "colab_type": "code",
    "id": "wKQ6ninpYkvx"
   },
   "outputs": [],
   "source": [
    "print(f'Training has {len(train_data)} observations \\nValidation has {len(valid_data)} observations')"
   ]
  },
  {
   "cell_type": "code",
   "execution_count": 0,
   "metadata": {
    "colab": {},
    "colab_type": "code",
    "id": "jSpe2uXpYkug"
   },
   "outputs": [],
   "source": [
    "TEXT.build_vocab(train_data, \n",
    "                 \n",
    "                 vectors = \"glove.6B.100d\", \n",
    "                 unk_init = torch.Tensor.normal_)\n",
    "\n",
    "LABEL.build_vocab(train_data)"
   ]
  },
  {
   "cell_type": "code",
   "execution_count": 0,
   "metadata": {
    "colab": {},
    "colab_type": "code",
    "id": "wqe__niBYksz"
   },
   "outputs": [],
   "source": [
    "BATCH_SIZE = 10\n",
    "\n",
    "device = torch.device('cuda' if torch.cuda.is_available() else 'cpu')\n",
    "\n",
    "train_iterator, valid_iterator = data.BucketIterator.splits((train_data, valid_data),\n",
    "                                                    batch_sizes = (10,10),\n",
    "                                                    device = device,\n",
    "                                                    sort_key = lambda x: x.text,\n",
    "                                                    sort_within_batch = True)"
   ]
  },
  {
   "cell_type": "code",
   "execution_count": 0,
   "metadata": {
    "colab": {},
    "colab_type": "code",
    "id": "aHuNzwm5Ykqs"
   },
   "outputs": [],
   "source": [
    "import torch.nn as nn\n",
    "import torch.nn.functional as F\n",
    "\n",
    "\n",
    "class CNN(nn.Module):\n",
    "    def __init__(self, vocab_size, embedding_dim, n_filters, filter_sizes, output_dim, \n",
    "                 dropout, pad_idx):\n",
    "        \n",
    "        super().__init__()\n",
    "                \n",
    "        self.embedding = nn.Embedding(vocab_size, embedding_dim, padding_idx = pad_idx)\n",
    "        \n",
    "        self.convs = nn.ModuleList([\n",
    "                                    nn.Conv2d(in_channels = 1, \n",
    "                                              out_channels = n_filters, \n",
    "                                              kernel_size = (fs, embedding_dim)) \n",
    "                                    for fs in filter_sizes\n",
    "                                    ])\n",
    "        \n",
    "        self.fc = nn.Linear(len(filter_sizes) * n_filters, output_dim)\n",
    "        \n",
    "        self.dropout = nn.Dropout(dropout)\n",
    "        \n",
    "    def forward(self, text):\n",
    "                \n",
    "        #text = [batch size, sent len]\n",
    "        \n",
    "        embedded = self.embedding(text)\n",
    "                \n",
    "        #embedded = [batch size, sent len, emb dim]\n",
    "        \n",
    "        embedded = embedded.unsqueeze(1)\n",
    "        \n",
    "        #embedded = [batch size, 1, sent len, emb dim]\n",
    "        \n",
    "        conved = [F.relu(conv(embedded)).squeeze(3) for conv in self.convs]\n",
    "            \n",
    "        #conved_n = [batch size, n_filters, sent len - filter_sizes[n] + 1]\n",
    "                \n",
    "        pooled = [F.max_pool1d(conv, conv.shape[2]).squeeze(2) for conv in conved]\n",
    "        \n",
    "        #pooled_n = [batch size, n_filters]\n",
    "        \n",
    "        cat = self.dropout(torch.cat(pooled, dim = 1))\n",
    "\n",
    "        #cat = [batch size, n_filters * len(filter_sizes)]\n",
    "            \n",
    "        return self.fc(cat)"
   ]
  },
  {
   "cell_type": "code",
   "execution_count": 0,
   "metadata": {
    "colab": {},
    "colab_type": "code",
    "id": "p9asTaj4Ykoz"
   },
   "outputs": [],
   "source": [
    "INPUT_DIM = len(TEXT.vocab)\n",
    "EMBEDDING_DIM = 100\n",
    "N_FILTERS = 100\n",
    "FILTER_SIZES = [1,2,3]\n",
    "OUTPUT_DIM = 1\n",
    "DROPOUT = 0.5\n",
    "PAD_IDX = TEXT.vocab.stoi[TEXT.pad_token]\n",
    "\n",
    "model = CNN(INPUT_DIM, EMBEDDING_DIM, N_FILTERS, FILTER_SIZES, OUTPUT_DIM, DROPOUT, PAD_IDX)"
   ]
  },
  {
   "cell_type": "code",
   "execution_count": 0,
   "metadata": {
    "colab": {},
    "colab_type": "code",
    "id": "Tlj2pGedYklK"
   },
   "outputs": [],
   "source": [
    "def count_parameters(model):\n",
    "    return sum(p.numel() for p in model.parameters() if p.requires_grad)\n",
    "\n",
    "print(f'The model has {count_parameters(model):,} trainable parameters')"
   ]
  },
  {
   "cell_type": "code",
   "execution_count": 0,
   "metadata": {
    "colab": {},
    "colab_type": "code",
    "id": "1bccaTNLYkh2"
   },
   "outputs": [],
   "source": [
    "pretrained_embeddings = TEXT.vocab.vectors\n",
    "\n",
    "model.embedding.weight.data.copy_(pretrained_embeddings)"
   ]
  },
  {
   "cell_type": "code",
   "execution_count": 0,
   "metadata": {
    "colab": {},
    "colab_type": "code",
    "id": "H-fAN3FvYi71"
   },
   "outputs": [],
   "source": [
    "UNK_IDX = TEXT.vocab.stoi[TEXT.unk_token]\n",
    "\n",
    "model.embedding.weight.data[UNK_IDX] = torch.zeros(EMBEDDING_DIM)\n",
    "model.embedding.weight.data[PAD_IDX] = torch.zeros(EMBEDDING_DIM)\n",
    "model.embedding.weight.data"
   ]
  },
  {
   "cell_type": "code",
   "execution_count": 0,
   "metadata": {
    "colab": {},
    "colab_type": "code",
    "id": "nfWlpvuwYi4q"
   },
   "outputs": [],
   "source": [
    "import torch.optim as optim\n",
    "\n",
    "optimizer = optim.Adam(model.parameters())\n",
    "\n",
    "criterion = nn.BCEWithLogitsLoss()\n",
    "\n",
    "model = model.to(device)\n",
    "criterion = criterion.to(device)"
   ]
  },
  {
   "cell_type": "code",
   "execution_count": 0,
   "metadata": {
    "colab": {},
    "colab_type": "code",
    "id": "ZGGD9SdCYi2V"
   },
   "outputs": [],
   "source": [
    "def binary_accuracy(preds, y):\n",
    "    \"\"\"\n",
    "    Returns accuracy per batch, i.e. if you get 8/10 right, this returns 0.8, NOT 8\n",
    "    \"\"\"\n",
    "\n",
    "    #round predictions to the closest integer\n",
    "    rounded_preds = torch.round(torch.sigmoid(preds))\n",
    "    correct = (rounded_preds == y).float() #convert into float for division \n",
    "    acc = correct.sum() / len(correct)\n",
    "    return acc"
   ]
  },
  {
   "cell_type": "code",
   "execution_count": 0,
   "metadata": {
    "colab": {},
    "colab_type": "code",
    "id": "NTNpuyLtYi0z"
   },
   "outputs": [],
   "source": [
    "def train(model, iterator, optimizer, criterion):\n",
    "    \n",
    "    epoch_loss = 0\n",
    "    epoch_acc = 0\n",
    "    \n",
    "    model.train()\n",
    "    \n",
    "    for batch in iterator:\n",
    "        \n",
    "        optimizer.zero_grad()\n",
    "        \n",
    "        predictions = model(batch.text).squeeze(1)\n",
    "        \n",
    "        loss = criterion(predictions, batch.label)\n",
    "        \n",
    "        acc = binary_accuracy(predictions, batch.label)\n",
    "        \n",
    "        loss.backward()\n",
    "        \n",
    "        optimizer.step()\n",
    "        \n",
    "        epoch_loss += loss.item()\n",
    "        epoch_acc += acc.item()\n",
    "        \n",
    "    return epoch_loss / len(iterator), epoch_acc / len(iterator)"
   ]
  },
  {
   "cell_type": "code",
   "execution_count": 0,
   "metadata": {
    "colab": {},
    "colab_type": "code",
    "id": "jNXv1IyRYixQ"
   },
   "outputs": [],
   "source": [
    "def evaluate(model, iterator, criterion):\n",
    "    \n",
    "    epoch_loss = 0\n",
    "    epoch_acc = 0\n",
    "    \n",
    "    model.eval()\n",
    "    \n",
    "    with torch.no_grad():\n",
    "    \n",
    "        for batch in iterator:\n",
    "\n",
    "            predictions = model(batch.text).squeeze(1)\n",
    "            \n",
    "            loss = criterion(predictions, batch.label)\n",
    "            \n",
    "            acc = binary_accuracy(predictions, batch.label)\n",
    "\n",
    "            epoch_loss += loss.item()\n",
    "            epoch_acc += acc.item()\n",
    "        \n",
    "    return epoch_loss / len(iterator), epoch_acc / len(iterator)"
   ]
  },
  {
   "cell_type": "code",
   "execution_count": 0,
   "metadata": {
    "colab": {},
    "colab_type": "code",
    "id": "rEw20j0FYiva"
   },
   "outputs": [],
   "source": [
    "import time\n",
    "\n",
    "def epoch_time(start_time, end_time):\n",
    "    elapsed_time = end_time - start_time\n",
    "    elapsed_mins = int(elapsed_time / 60)\n",
    "    elapsed_secs = int(elapsed_time - (elapsed_mins * 60))\n",
    "    return elapsed_mins, elapsed_secs"
   ]
  },
  {
   "cell_type": "code",
   "execution_count": 0,
   "metadata": {
    "colab": {},
    "colab_type": "code",
    "id": "G7aUjTjeYir-"
   },
   "outputs": [],
   "source": [
    "N_EPOCHS = 5\n",
    "\n",
    "best_valid_loss = float('inf')\n",
    "\n",
    "for epoch in range(N_EPOCHS):\n",
    "\n",
    "    start_time = time.time()\n",
    "    \n",
    "    train_loss, train_acc = train(model, train_iterator, optimizer, criterion)\n",
    "    valid_loss, valid_acc = evaluate(model, valid_iterator, criterion)\n",
    "    \n",
    "    end_time = time.time()\n",
    "\n",
    "    epoch_mins, epoch_secs = epoch_time(start_time, end_time)\n",
    "    \n",
    "    if valid_loss < best_valid_loss:\n",
    "        best_valid_loss = valid_loss\n",
    "        torch.save(model.state_dict(), 'text_mining.pt')\n",
    "    \n",
    "    print(f'Epoch: {epoch+1:02} | Epoch Time: {epoch_mins}m {epoch_secs}s')\n",
    "    print(f'\\tTrain Loss: {train_loss:.3f} | Train Acc: {train_acc*100:.2f}%')\n",
    "    print(f'\\t Val. Loss: {valid_loss:.3f} |  Val. Acc: {valid_acc*100:.2f}%')"
   ]
  },
  {
   "cell_type": "code",
   "execution_count": 0,
   "metadata": {
    "colab": {},
    "colab_type": "code",
    "id": "eXesNThDYh3l"
   },
   "outputs": [],
   "source": []
  },
  {
   "cell_type": "code",
   "execution_count": 0,
   "metadata": {
    "colab": {},
    "colab_type": "code",
    "id": "DdNeoKm6YhrE"
   },
   "outputs": [],
   "source": []
  }
 ],
 "metadata": {
  "accelerator": "GPU",
  "colab": {
   "collapsed_sections": [],
   "name": "nlp_final.ipynb",
   "provenance": [],
   "toc_visible": true
  },
  "kernelspec": {
   "display_name": "Python 3",
   "language": "python",
   "name": "python3"
  },
  "language_info": {
   "codemirror_mode": {
    "name": "ipython",
    "version": 3
   },
   "file_extension": ".py",
   "mimetype": "text/x-python",
   "name": "python",
   "nbconvert_exporter": "python",
   "pygments_lexer": "ipython3",
   "version": "3.7.6"
  },
  "toc": {
   "base_numbering": 1,
   "nav_menu": {},
   "number_sections": true,
   "sideBar": true,
   "skip_h1_title": false,
   "title_cell": "Table of Contents",
   "title_sidebar": "Contents",
   "toc_cell": false,
   "toc_position": {
    "height": "calc(100% - 180px)",
    "left": "10px",
    "top": "150px",
    "width": "349.091px"
   },
   "toc_section_display": true,
   "toc_window_display": true
  },
  "varInspector": {
   "cols": {
    "lenName": 16,
    "lenType": 16,
    "lenVar": 40
   },
   "kernels_config": {
    "python": {
     "delete_cmd_postfix": "",
     "delete_cmd_prefix": "del ",
     "library": "var_list.py",
     "varRefreshCmd": "print(var_dic_list())"
    },
    "r": {
     "delete_cmd_postfix": ") ",
     "delete_cmd_prefix": "rm(",
     "library": "var_list.r",
     "varRefreshCmd": "cat(var_dic_list()) "
    }
   },
   "types_to_exclude": [
    "module",
    "function",
    "builtin_function_or_method",
    "instance",
    "_Feature"
   ],
   "window_display": false
  }
 },
 "nbformat": 4,
 "nbformat_minor": 1
}
